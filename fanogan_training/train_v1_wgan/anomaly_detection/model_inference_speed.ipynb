{
 "cells": [
  {
   "cell_type": "code",
   "execution_count": 1,
   "id": "6359181e-1abd-4754-a561-de68ab434bf2",
   "metadata": {
    "execution": {
     "iopub.execute_input": "2024-08-14T10:11:23.653225Z",
     "iopub.status.busy": "2024-08-14T10:11:23.652059Z",
     "iopub.status.idle": "2024-08-14T10:11:23.667434Z",
     "shell.execute_reply": "2024-08-14T10:11:23.666713Z",
     "shell.execute_reply.started": "2024-08-14T10:11:23.653189Z"
    },
    "tags": []
   },
   "outputs": [],
   "source": [
    "# %pip install wandb"
   ]
  },
  {
   "cell_type": "code",
   "execution_count": 2,
   "id": "d6c392db-9c73-4345-9895-2a59b0a82c77",
   "metadata": {
    "execution": {
     "iopub.execute_input": "2024-08-14T10:11:24.155513Z",
     "iopub.status.busy": "2024-08-14T10:11:24.154284Z",
     "iopub.status.idle": "2024-08-14T10:11:26.373495Z",
     "shell.execute_reply": "2024-08-14T10:11:26.372567Z",
     "shell.execute_reply.started": "2024-08-14T10:11:24.155469Z"
    },
    "tags": []
   },
   "outputs": [],
   "source": [
    "import os\n",
    "import sys\n",
    "sys.path.append('../scripts')\n",
    "\n",
    "import pandas as pd\n",
    "import numpy as np\n",
    "\n",
    "from PIL import Image\n",
    "\n",
    "import torch\n",
    "import torch.autograd as autograd\n",
    "from torchvision.utils import save_image\n",
    "from torch.utils.data import Dataset, DataLoader\n",
    "import torch.nn as nn\n",
    "import torch.nn.functional as F\n",
    "\n",
    "from torchvision import transforms, utils\n",
    "from torchvision.utils import make_grid\n",
    "\n",
    "import matplotlib.pyplot as plt\n",
    "from tqdm.auto import tqdm\n",
    "\n",
    "import wandb"
   ]
  },
  {
   "cell_type": "markdown",
   "id": "870ad8a4-f8fb-4abc-bb33-85a31e140602",
   "metadata": {},
   "source": [
    "# Датасет, гиперпараметры, модели"
   ]
  },
  {
   "cell_type": "code",
   "execution_count": 26,
   "id": "6182068c-2f77-4f81-bf5b-9821e73dec6c",
   "metadata": {
    "execution": {
     "iopub.execute_input": "2024-08-14T10:27:05.217985Z",
     "iopub.status.busy": "2024-08-14T10:27:05.216878Z",
     "iopub.status.idle": "2024-08-14T10:27:05.247082Z",
     "shell.execute_reply": "2024-08-14T10:27:05.246229Z",
     "shell.execute_reply.started": "2024-08-14T10:27:05.217943Z"
    },
    "tags": []
   },
   "outputs": [],
   "source": [
    "from dataset import ArchNegatives, ArchPositives\n",
    "\n",
    "from model_conv import Generator, Discriminator\n",
    "from model_encoder import Encoder"
   ]
  },
  {
   "cell_type": "code",
   "execution_count": 27,
   "id": "29108969-11eb-4da6-bf9b-7d0d8617b608",
   "metadata": {
    "execution": {
     "iopub.execute_input": "2024-08-14T10:27:05.533342Z",
     "iopub.status.busy": "2024-08-14T10:27:05.532018Z",
     "iopub.status.idle": "2024-08-14T10:27:05.546732Z",
     "shell.execute_reply": "2024-08-14T10:27:05.545996Z",
     "shell.execute_reply.started": "2024-08-14T10:27:05.533299Z"
    },
    "tags": []
   },
   "outputs": [
    {
     "data": {
      "text/plain": [
       "device(type='cuda', index=0)"
      ]
     },
     "execution_count": 27,
     "metadata": {},
     "output_type": "execute_result"
    }
   ],
   "source": [
    "device = torch.device('cuda:0' if torch.cuda.is_available() else 'cpu')\n",
    "device"
   ]
  },
  {
   "cell_type": "code",
   "execution_count": 28,
   "id": "11cc6ded-95d8-49b5-ae2b-2c558e711ff0",
   "metadata": {
    "execution": {
     "iopub.execute_input": "2024-08-14T10:27:06.355953Z",
     "iopub.status.busy": "2024-08-14T10:27:06.354740Z",
     "iopub.status.idle": "2024-08-14T10:27:06.373441Z",
     "shell.execute_reply": "2024-08-14T10:27:06.372569Z",
     "shell.execute_reply.started": "2024-08-14T10:27:06.355906Z"
    },
    "tags": []
   },
   "outputs": [],
   "source": [
    "params = {\n",
    "    'batch_size': 64,\n",
    "    'channels': 3,\n",
    "    'img_size': 64,\n",
    "    'latent_dim': 100,\n",
    "    'lr': 0.0002,\n",
    "    'b1': 0.5,\n",
    "    'b2': 0.999,\n",
    "    'n_epochs': 200,\n",
    "    'n_critic': 5,\n",
    "    'sample_interval': 400,\n",
    "}"
   ]
  },
  {
   "cell_type": "code",
   "execution_count": 29,
   "id": "a63b00fc-7258-4f49-b213-ccac3cc8d740",
   "metadata": {
    "execution": {
     "iopub.execute_input": "2024-08-14T10:27:09.794247Z",
     "iopub.status.busy": "2024-08-14T10:27:09.793128Z",
     "iopub.status.idle": "2024-08-14T10:27:09.820808Z",
     "shell.execute_reply": "2024-08-14T10:27:09.819985Z",
     "shell.execute_reply.started": "2024-08-14T10:27:09.794216Z"
    },
    "tags": []
   },
   "outputs": [],
   "source": [
    "transform_crop_64 = transforms.Compose([\n",
    "    transforms.CenterCrop((64, 64)),\n",
    "    transforms.ToTensor(),\n",
    "    transforms.Normalize([0.5], [0.5])\n",
    "])"
   ]
  },
  {
   "cell_type": "code",
   "execution_count": 30,
   "id": "ba134f64-6b1d-4f66-a226-f68cd966bbba",
   "metadata": {
    "execution": {
     "iopub.execute_input": "2024-08-14T10:28:15.993757Z",
     "iopub.status.busy": "2024-08-14T10:28:15.992575Z",
     "iopub.status.idle": "2024-08-14T10:28:16.012322Z",
     "shell.execute_reply": "2024-08-14T10:28:16.011402Z",
     "shell.execute_reply.started": "2024-08-14T10:28:15.993721Z"
    },
    "tags": []
   },
   "outputs": [],
   "source": [
    "train_dataset = ArchNegatives(transform=transform_crop_64)\n",
    "train_loader = DataLoader(train_dataset, batch_size=params['batch_size'], shuffle=True)\n",
    "\n",
    "anomalies_dataset = ArchPositives(transform=transform_crop_64)\n",
    "anomalies_loader = DataLoader(anomalies_dataset, batch_size=params['batch_size'], shuffle=False)"
   ]
  },
  {
   "cell_type": "code",
   "execution_count": 31,
   "id": "5318814d-2aa4-44b6-a7f6-a3bda5129a15",
   "metadata": {
    "execution": {
     "iopub.execute_input": "2024-08-14T10:28:17.099720Z",
     "iopub.status.busy": "2024-08-14T10:28:17.098726Z",
     "iopub.status.idle": "2024-08-14T10:28:17.113432Z",
     "shell.execute_reply": "2024-08-14T10:28:17.112621Z",
     "shell.execute_reply.started": "2024-08-14T10:28:17.099677Z"
    },
    "tags": []
   },
   "outputs": [
    {
     "name": "stdout",
     "output_type": "stream",
     "text": [
      "train: 139945 images, 2187 batches\n",
      "anomalies: 163 images, 3 batches\n"
     ]
    }
   ],
   "source": [
    "print(f'train: {len(train_dataset)} images, {len(train_loader)} batches')\n",
    "print(f'anomalies: {len(anomalies_dataset)} images, {len(anomalies_loader)} batches')"
   ]
  },
  {
   "cell_type": "code",
   "execution_count": 32,
   "id": "ec499a25-3451-442f-b44c-3ff92d013791",
   "metadata": {
    "execution": {
     "iopub.execute_input": "2024-08-14T10:28:20.092197Z",
     "iopub.status.busy": "2024-08-14T10:28:20.091221Z",
     "iopub.status.idle": "2024-08-14T10:28:20.139349Z",
     "shell.execute_reply": "2024-08-14T10:28:20.138562Z",
     "shell.execute_reply.started": "2024-08-14T10:28:20.092154Z"
    },
    "tags": []
   },
   "outputs": [],
   "source": [
    "generator = Generator(params)\n",
    "discriminator = Discriminator(params)\n",
    "encoder = Encoder(params)"
   ]
  },
  {
   "cell_type": "code",
   "execution_count": 33,
   "id": "ccc737b4-6d39-4788-b8b8-cf53c04f7805",
   "metadata": {
    "execution": {
     "iopub.execute_input": "2024-08-14T10:28:23.274235Z",
     "iopub.status.busy": "2024-08-14T10:28:23.273138Z",
     "iopub.status.idle": "2024-08-14T10:28:23.315540Z",
     "shell.execute_reply": "2024-08-14T10:28:23.314757Z",
     "shell.execute_reply.started": "2024-08-14T10:28:23.274193Z"
    },
    "tags": []
   },
   "outputs": [
    {
     "data": {
      "text/plain": [
       "<All keys matched successfully>"
      ]
     },
     "execution_count": 33,
     "metadata": {},
     "output_type": "execute_result"
    }
   ],
   "source": [
    "# map_location=torch.device('cpu')\n",
    "\n",
    "generator.load_state_dict(torch.load(\"../train_generator_discriminator/results_conv/generator\"))\n",
    "discriminator.load_state_dict(torch.load(\"../train_generator_discriminator/results_conv/discriminator\"))\n",
    "encoder.load_state_dict(torch.load(\"../train_izif_encoder/results_encoder/encoder\"))"
   ]
  },
  {
   "cell_type": "code",
   "execution_count": 34,
   "id": "955dc7a5-9fe4-408e-b04d-fcfd5031e49d",
   "metadata": {
    "execution": {
     "iopub.execute_input": "2024-08-14T10:28:24.383974Z",
     "iopub.status.busy": "2024-08-14T10:28:24.383039Z",
     "iopub.status.idle": "2024-08-14T10:28:24.411123Z",
     "shell.execute_reply": "2024-08-14T10:28:24.410342Z",
     "shell.execute_reply.started": "2024-08-14T10:28:24.383937Z"
    },
    "tags": []
   },
   "outputs": [],
   "source": [
    "generator.to(device).eval();\n",
    "discriminator.to(device).eval();\n",
    "encoder.to(device).eval();"
   ]
  },
  {
   "cell_type": "markdown",
   "id": "74118fa5-1153-4b5e-9af0-55bf7ea89cde",
   "metadata": {},
   "source": [
    "# Модель сравнения изображений"
   ]
  },
  {
   "cell_type": "code",
   "execution_count": 138,
   "id": "32547019-7571-4687-b35c-6569f6dd5873",
   "metadata": {
    "execution": {
     "iopub.execute_input": "2024-08-14T10:56:26.137198Z",
     "iopub.status.busy": "2024-08-14T10:56:26.135919Z",
     "iopub.status.idle": "2024-08-14T10:56:26.164829Z",
     "shell.execute_reply": "2024-08-14T10:56:26.163883Z",
     "shell.execute_reply.started": "2024-08-14T10:56:26.137150Z"
    },
    "tags": []
   },
   "outputs": [],
   "source": [
    "def compute_anomaly_scores(imgs, kappa=1.0):\n",
    "    \n",
    "    # imgs: batch_size x num_channels x img_size x img_size\n",
    "    \n",
    "    mse = nn.MSELoss(reduction='none')\n",
    "    \n",
    "    real_imgs = imgs.to(device)\n",
    "    real_zs = encoder(real_imgs)\n",
    "    fake_imgs = generator(real_zs)\n",
    "    fake_zs = encoder(fake_imgs)\n",
    "\n",
    "    real_features = discriminator.forward_features(real_imgs)\n",
    "    fake_features = discriminator.forward_features(fake_imgs)\n",
    "    \n",
    "    img_distances = torch.mean(mse(fake_imgs, real_imgs), dim=(1, 2, 3))\n",
    "    loss_features = torch.mean(mse(fake_features, real_features), dim=(1))\n",
    "    anomaly_scores = img_distances + kappa * loss_features\n",
    "    z_distances = torch.mean(mse(fake_zs, real_zs), dim=(1))\n",
    "    \n",
    "    return img_distances, loss_features, anomaly_scores, z_distances\n",
    "    "
   ]
  },
  {
   "cell_type": "markdown",
   "id": "de906b84-9240-41c4-8bab-7945c83504a4",
   "metadata": {
    "tags": []
   },
   "source": [
    "# Замеряем скорость инференса"
   ]
  },
  {
   "cell_type": "code",
   "execution_count": 141,
   "id": "e55c2e2b-9b32-4356-88af-5c932b808a3e",
   "metadata": {
    "execution": {
     "iopub.execute_input": "2024-08-14T10:56:48.112163Z",
     "iopub.status.busy": "2024-08-14T10:56:48.110954Z",
     "iopub.status.idle": "2024-08-14T10:56:48.599224Z",
     "shell.execute_reply": "2024-08-14T10:56:48.598376Z",
     "shell.execute_reply.started": "2024-08-14T10:56:48.112117Z"
    },
    "tags": []
   },
   "outputs": [
    {
     "name": "stdout",
     "output_type": "stream",
     "text": [
      "CPU times: user 437 ms, sys: 13.9 ms, total: 451 ms\n",
      "Wall time: 449 ms\n"
     ]
    }
   ],
   "source": [
    "%%time\n",
    "for i, (imgs, labels) in enumerate(anomalies_loader):\n",
    "    img_distances, loss_features, anomaly_scores, z_distances = compute_anomaly_scores(imgs)"
   ]
  },
  {
   "cell_type": "code",
   "execution_count": null,
   "id": "ea8927aa-3d5b-4378-b61f-34aa5c164c8d",
   "metadata": {
    "execution": {
     "iopub.execute_input": "2024-08-14T10:56:55.471077Z",
     "iopub.status.busy": "2024-08-14T10:56:55.470030Z",
     "iopub.status.idle": "2024-08-14T11:15:10.772627Z"
    }
   },
   "outputs": [
    {
     "name": "stdout",
     "output_type": "stream",
     "text": [
      "CPU times: user 6min 45s, sys: 20.1 s, total: 7min 5s\n",
      "Wall time: 18min 15s\n"
     ]
    }
   ],
   "source": [
    "%%time\n",
    "for i, (imgs, labels) in enumerate(train_loader):\n",
    "    img_distances, loss_features, anomaly_scores, z_distances = compute_anomaly_scores(imgs)"
   ]
  }
 ],
 "metadata": {
  "kernelspec": {
   "display_name": "DataSphere Kernel",
   "language": "python",
   "name": "python3"
  },
  "language_info": {
   "codemirror_mode": {
    "name": "ipython",
    "version": 3
   },
   "file_extension": ".py",
   "mimetype": "text/x-python",
   "name": "python",
   "nbconvert_exporter": "python",
   "pygments_lexer": "ipython3",
   "version": "3.10.12"
  }
 },
 "nbformat": 4,
 "nbformat_minor": 5
}
