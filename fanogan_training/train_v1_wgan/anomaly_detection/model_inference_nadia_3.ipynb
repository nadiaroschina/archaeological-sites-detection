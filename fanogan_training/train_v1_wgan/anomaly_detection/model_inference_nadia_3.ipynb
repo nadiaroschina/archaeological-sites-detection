{
 "cells": [
  {
   "cell_type": "code",
   "execution_count": null,
   "id": "6359181e-1abd-4754-a561-de68ab434bf2",
   "metadata": {
    "tags": []
   },
   "outputs": [],
   "source": [
    "# %pip install wandb"
   ]
  },
  {
   "cell_type": "code",
   "execution_count": null,
   "id": "d6c392db-9c73-4345-9895-2a59b0a82c77",
   "metadata": {
    "tags": []
   },
   "outputs": [],
   "source": [
    "import os\n",
    "import sys\n",
    "sys.path.append('../scripts')\n",
    "\n",
    "import pandas as pd\n",
    "import numpy as np\n",
    "\n",
    "from PIL import Image\n",
    "\n",
    "import torch\n",
    "import torch.autograd as autograd\n",
    "from torchvision.utils import save_image\n",
    "from torch.utils.data import Dataset, DataLoader\n",
    "import torch.nn as nn\n",
    "import torch.nn.functional as F\n",
    "\n",
    "from torchvision import transforms, utils\n",
    "from torchvision.utils import make_grid\n",
    "\n",
    "import matplotlib.pyplot as plt\n",
    "from tqdm.auto import tqdm\n",
    "\n",
    "import wandb"
   ]
  },
  {
   "cell_type": "markdown",
   "id": "870ad8a4-f8fb-4abc-bb33-85a31e140602",
   "metadata": {},
   "source": [
    "# Датасет, гиперпараметры, модели"
   ]
  },
  {
   "cell_type": "code",
   "execution_count": null,
   "id": "6182068c-2f77-4f81-bf5b-9821e73dec6c",
   "metadata": {
    "tags": []
   },
   "outputs": [],
   "source": [
    "from dataset import ArchNegatives, ArchPositives\n",
    "\n",
    "from model_nadia_2 import Generator, Discriminator, Encoder"
   ]
  },
  {
   "cell_type": "code",
   "execution_count": null,
   "id": "6089b267-ee56-46f5-ae4b-b872f0eb69b5",
   "metadata": {
    "tags": []
   },
   "outputs": [],
   "source": [
    "model_name = 'nadia'\n",
    "version = 'v3'\n",
    "\n",
    "results_dir = f'results_{model_name}_{version}'"
   ]
  },
  {
   "cell_type": "code",
   "execution_count": null,
   "id": "0f7efe53-2862-4c9e-88e6-03098173b000",
   "metadata": {
    "tags": []
   },
   "outputs": [],
   "source": [
    "generator_path = f'../train_generator_discriminator/{results_dir}/generator_81.pth'\n",
    "discriminator_path = f'../train_generator_discriminator/{results_dir}/discriminator_81.pth'\n",
    "encoder_path = f'../train_izif_encoder/{results_dir}/encoder_199.pth'"
   ]
  },
  {
   "cell_type": "code",
   "execution_count": null,
   "id": "29108969-11eb-4da6-bf9b-7d0d8617b608",
   "metadata": {
    "tags": []
   },
   "outputs": [],
   "source": [
    "device = torch.device('cuda:0' if torch.cuda.is_available() else 'cpu')\n",
    "device"
   ]
  },
  {
   "cell_type": "code",
   "execution_count": null,
   "id": "11cc6ded-95d8-49b5-ae2b-2c558e711ff0",
   "metadata": {
    "tags": []
   },
   "outputs": [],
   "source": [
    "params = {\n",
    "    'batch_size': 64,\n",
    "    'channels': 3,\n",
    "    'img_size': 64,\n",
    "    'latent_dim': 512,\n",
    "    'lr': 0.0002,\n",
    "    'b1': 0.5,\n",
    "    'b2': 0.999,\n",
    "    'n_epochs': 200,\n",
    "    'n_critic': 5,\n",
    "    'sample_interval': 400,\n",
    "}"
   ]
  },
  {
   "cell_type": "code",
   "execution_count": null,
   "id": "a63b00fc-7258-4f49-b213-ccac3cc8d740",
   "metadata": {
    "tags": []
   },
   "outputs": [],
   "source": [
    "transform_crop_64 = transforms.Compose([\n",
    "    transforms.CenterCrop((64, 64)),\n",
    "    transforms.ToTensor(),\n",
    "    transforms.Normalize([0.5], [0.5])\n",
    "])"
   ]
  },
  {
   "cell_type": "code",
   "execution_count": null,
   "id": "ba134f64-6b1d-4f66-a226-f68cd966bbba",
   "metadata": {
    "tags": []
   },
   "outputs": [],
   "source": [
    "train_dataset = ArchNegatives(transform=transform_crop_64)\n",
    "train_loader = DataLoader(train_dataset, batch_size=params['batch_size'], shuffle=True)\n",
    "\n",
    "anomalies_dataset = ArchPositives(transform=transform_crop_64)\n",
    "anomalies_loader = DataLoader(anomalies_dataset, batch_size=params['batch_size'], shuffle=False)"
   ]
  },
  {
   "cell_type": "code",
   "execution_count": null,
   "id": "5318814d-2aa4-44b6-a7f6-a3bda5129a15",
   "metadata": {
    "tags": []
   },
   "outputs": [],
   "source": [
    "print(f'train: {len(train_dataset)} images, {len(train_loader)} batches')\n",
    "print(f'anomalies: {len(anomalies_dataset)} images, {len(anomalies_loader)} batches')"
   ]
  },
  {
   "cell_type": "code",
   "execution_count": null,
   "id": "ec499a25-3451-442f-b44c-3ff92d013791",
   "metadata": {
    "tags": []
   },
   "outputs": [],
   "source": [
    "generator = Generator(params)\n",
    "discriminator = Discriminator(params)\n",
    "encoder = Encoder(params)"
   ]
  },
  {
   "cell_type": "code",
   "execution_count": null,
   "id": "ccc737b4-6d39-4788-b8b8-cf53c04f7805",
   "metadata": {
    "tags": []
   },
   "outputs": [],
   "source": [
    "# map_location=torch.device('cpu')\n",
    "\n",
    "generator.load_state_dict(torch.load(generator_path, map_location=torch.device('cpu')))\n",
    "discriminator.load_state_dict(torch.load(discriminator_path, map_location=torch.device('cpu')))\n",
    "encoder.load_state_dict(torch.load(encoder_path, map_location=torch.device('cpu')))"
   ]
  },
  {
   "cell_type": "code",
   "execution_count": null,
   "id": "955dc7a5-9fe4-408e-b04d-fcfd5031e49d",
   "metadata": {
    "tags": []
   },
   "outputs": [],
   "source": [
    "generator.to(device).eval();\n",
    "discriminator.to(device).eval();\n",
    "encoder.to(device).eval();"
   ]
  },
  {
   "cell_type": "code",
   "execution_count": null,
   "id": "c873dbb0-d26c-4e29-af24-2ea92e547df9",
   "metadata": {
    "tags": []
   },
   "outputs": [],
   "source": [
    "n_params = 0\n",
    "for n, p in generator.named_parameters():\n",
    "    # print(n, p)\n",
    "    n_params += np.prod(p.shape)\n",
    "n_params"
   ]
  },
  {
   "cell_type": "code",
   "execution_count": null,
   "id": "427e9c49-0cdb-4015-b692-a19e537f6aa7",
   "metadata": {},
   "outputs": [],
   "source": []
  },
  {
   "cell_type": "markdown",
   "id": "74118fa5-1153-4b5e-9af0-55bf7ea89cde",
   "metadata": {},
   "source": [
    "# Модель сравнения изображений"
   ]
  },
  {
   "cell_type": "code",
   "execution_count": null,
   "id": "15866650-163d-47da-a95f-c8b2b4c52982",
   "metadata": {
    "tags": []
   },
   "outputs": [],
   "source": [
    "criterion = nn.MSELoss()\n",
    "kappa=1.0\n",
    "\n",
    "# with open(\"score.csv\", \"w\") as f:\n",
    "#     f.write(\"label,img_distance,anomaly_score,z_distance\\n\")"
   ]
  },
  {
   "cell_type": "code",
   "execution_count": null,
   "id": "b92c97ec-c491-4020-a0f6-f8ec09ca56c7",
   "metadata": {
    "tags": []
   },
   "outputs": [],
   "source": [
    "def test(img):\n",
    "    \n",
    "    real_img = img.to(device)\n",
    "    real_z = encoder(real_img)\n",
    "    fake_img = generator(real_z)\n",
    "    fake_z = encoder(fake_img)\n",
    "\n",
    "    real_feature = discriminator.forward_features(real_img)\n",
    "    fake_feature = discriminator.forward_features(fake_img)\n",
    "\n",
    "    img_distance = criterion(fake_img, real_img)\n",
    "    loss_feature = criterion(fake_feature, real_feature)\n",
    "    anomaly_score = img_distance + kappa * loss_feature\n",
    "\n",
    "    z_distance = criterion(fake_z, real_z)\n",
    "    \n",
    "    return fake_img, img_distance.item(), anomaly_score.item(), z_distance.item()\n",
    "    \n",
    "    # with open(\"results/score.csv\", \"a\") as f:\n",
    "    #     f.write(f\"{label.item()},{img_distance},\"\n",
    "    #             f\"{anomaly_score},{z_distance}\\n\")\n",
    "    "
   ]
  },
  {
   "cell_type": "markdown",
   "id": "533fd029-3c86-465a-81bf-12952ff4fd2a",
   "metadata": {},
   "source": [
    "# Смотрим, как восстанавливаются картинки"
   ]
  },
  {
   "cell_type": "markdown",
   "id": "2a1a99e6-d47f-41f2-ab56-52e723ef7f75",
   "metadata": {
    "tags": []
   },
   "source": [
    "## Train dataset"
   ]
  },
  {
   "cell_type": "code",
   "execution_count": null,
   "id": "20d270ae-ef06-48eb-95d7-a1296b9755dd",
   "metadata": {
    "tags": []
   },
   "outputs": [],
   "source": [
    "nrows, ncols = 2, 6\n",
    "\n",
    "fig, axs = plt.subplots(nrows=nrows, ncols=ncols, figsize = (3 * ncols, 3 * nrows))\n",
    "\n",
    "fig.suptitle('Train dataset')\n",
    "\n",
    "for j in range(ncols):\n",
    "    \n",
    "    for i in range(nrows):\n",
    "        axs[i, j].axis('off')\n",
    "        axs[i, j].grid('off')\n",
    "        \n",
    "    img, label = train_dataset[j]\n",
    "    img = img[None, :, :, :]\n",
    "    fake_img, img_distance, anomaly_score, z_distance = test(img)\n",
    "\n",
    "    axs[0, j].imshow((img[0].cpu().permute(1, 2, 0).detach().numpy() + 1) / 2)\n",
    "    axs[1, j].imshow((fake_img[0].cpu().permute(1, 2, 0).detach().numpy() + 1) / 2)\n",
    "    \n",
    "    axs[0, j].title.set_text(f'anomaly score: {anomaly_score:.4f}')\n",
    "    axs[1, j].title.set_text(f'img dist {img_distance:.4f}, z dist {z_distance:.4f}')\n",
    "    \n",
    "fig.tight_layout()\n",
    "fig.show()"
   ]
  },
  {
   "cell_type": "code",
   "execution_count": null,
   "id": "a08e5eeb-dd74-46ec-9ec5-cd8d07ed19af",
   "metadata": {
    "tags": []
   },
   "outputs": [],
   "source": [
    "nrows, ncols = 2, 6\n",
    "\n",
    "fig, axs = plt.subplots(nrows=nrows, ncols=ncols, figsize = (3 * ncols, 3 * nrows))\n",
    "\n",
    "fig.suptitle('Train dataset')\n",
    "\n",
    "for j in range(ncols):\n",
    "    \n",
    "    for i in range(nrows):\n",
    "        axs[i, j].axis('off')\n",
    "        axs[i, j].grid('off')\n",
    "        \n",
    "    img, label = train_dataset[j + 6]\n",
    "    img = img[None, :, :, :]\n",
    "    fake_img, img_distance, anomaly_score, z_distance = test(img)\n",
    "\n",
    "    axs[0, j].imshow((img[0].cpu().permute(1, 2, 0).detach().numpy() + 1) / 2)\n",
    "    axs[1, j].imshow((fake_img[0].cpu().permute(1, 2, 0).detach().numpy() + 1) / 2)\n",
    "    \n",
    "    axs[0, j].title.set_text(f'anomaly score: {anomaly_score:.4f}')\n",
    "    axs[1, j].title.set_text(f'img dist {img_distance:.4f}, z dist {z_distance:.4f}')\n",
    "    \n",
    "fig.tight_layout()\n",
    "fig.show()"
   ]
  },
  {
   "cell_type": "code",
   "execution_count": null,
   "id": "15fb4581-3e23-4f41-bb83-6123f2f81e5b",
   "metadata": {
    "tags": []
   },
   "outputs": [],
   "source": [
    "nrows, ncols = 2, 6\n",
    "\n",
    "fig, axs = plt.subplots(nrows=nrows, ncols=ncols, figsize = (3 * ncols, 3 * nrows))\n",
    "\n",
    "fig.suptitle('Train dataset')\n",
    "\n",
    "for j in range(ncols):\n",
    "    \n",
    "    for i in range(nrows):\n",
    "        axs[i, j].axis('off')\n",
    "        axs[i, j].grid('off')\n",
    "        \n",
    "    img, label = train_dataset[j + 12]\n",
    "    img = img[None, :, :, :]\n",
    "    fake_img, img_distance, anomaly_score, z_distance = test(img)\n",
    "\n",
    "    axs[0, j].imshow((img[0].cpu().permute(1, 2, 0).detach().numpy() + 1) / 2)\n",
    "    axs[1, j].imshow((fake_img[0].cpu().permute(1, 2, 0).detach().numpy() + 1) / 2)\n",
    "    \n",
    "    axs[0, j].title.set_text(f'anomaly score: {anomaly_score:.4f}')\n",
    "    axs[1, j].title.set_text(f'img dist {img_distance:.4f}, z dist {z_distance:.4f}')\n",
    "    \n",
    "fig.tight_layout()\n",
    "fig.show()"
   ]
  },
  {
   "cell_type": "markdown",
   "id": "f9bef193-0fdd-49eb-b689-592d690a0d80",
   "metadata": {
    "tags": []
   },
   "source": [
    "## Anomalies dataset"
   ]
  },
  {
   "cell_type": "code",
   "execution_count": null,
   "id": "02e1b233-9295-42ca-819e-2bffc7f7d16a",
   "metadata": {
    "tags": []
   },
   "outputs": [],
   "source": [
    "nrows, ncols = 2, 6\n",
    "\n",
    "fig, axs = plt.subplots(nrows=nrows, ncols=ncols, figsize = (3 * ncols, 3 * nrows))\n",
    "\n",
    "fig.suptitle('Anomaly dataset')\n",
    "\n",
    "for j in range(ncols):\n",
    "    \n",
    "    for i in range(nrows):\n",
    "        axs[i, j].axis('off')\n",
    "        axs[i, j].grid('off')\n",
    "        \n",
    "    img, label = anomalies_dataset[j]\n",
    "    img = img[None, :, :, :]\n",
    "    fake_img, img_distance, anomaly_score, z_distance = test(img)\n",
    "\n",
    "    axs[0, j].imshow((img[0].cpu().permute(1, 2, 0).detach().numpy() + 1) / 2)\n",
    "    axs[1, j].imshow((fake_img[0].cpu().permute(1, 2, 0).detach().numpy() + 1) / 2)\n",
    "    \n",
    "    axs[0, j].title.set_text(f'anomaly score: {anomaly_score:.4f}')\n",
    "    axs[1, j].title.set_text(f'img dist {img_distance:.4f}, z dist {z_distance:.4f}')\n",
    "    \n",
    "fig.tight_layout()\n",
    "fig.show()"
   ]
  },
  {
   "cell_type": "code",
   "execution_count": null,
   "id": "d9ebbf9b-7433-48e9-8df2-391f9239fca5",
   "metadata": {
    "tags": []
   },
   "outputs": [],
   "source": [
    "nrows, ncols = 2, 6\n",
    "\n",
    "fig, axs = plt.subplots(nrows=nrows, ncols=ncols, figsize = (3 * ncols, 3 * nrows))\n",
    "\n",
    "fig.suptitle('Anomaly dataset')\n",
    "\n",
    "for j in range(ncols):\n",
    "    \n",
    "    for i in range(nrows):\n",
    "        axs[i, j].axis('off')\n",
    "        axs[i, j].grid('off')\n",
    "        \n",
    "    img, label = anomalies_dataset[j + 6]\n",
    "    img = img[None, :, :, :]\n",
    "    fake_img, img_distance, anomaly_score, z_distance = test(img)\n",
    "\n",
    "    axs[0, j].imshow((img[0].cpu().permute(1, 2, 0).detach().numpy() + 1) / 2)\n",
    "    axs[1, j].imshow((fake_img[0].cpu().permute(1, 2, 0).detach().numpy() + 1) / 2)\n",
    "    \n",
    "    axs[0, j].title.set_text(f'anomaly score: {anomaly_score:.4f}')\n",
    "    axs[1, j].title.set_text(f'img dist {img_distance:.4f}, z dist {z_distance:.4f}')\n",
    "    \n",
    "fig.tight_layout()\n",
    "fig.show()"
   ]
  },
  {
   "cell_type": "code",
   "execution_count": null,
   "id": "69ce03c6-3c46-459b-8a9b-671a333c5193",
   "metadata": {},
   "outputs": [],
   "source": []
  },
  {
   "cell_type": "code",
   "execution_count": null,
   "id": "a99f07a1-ab88-416f-a687-933feac03f5b",
   "metadata": {},
   "outputs": [],
   "source": []
  },
  {
   "cell_type": "code",
   "execution_count": null,
   "id": "e55c2e2b-9b32-4356-88af-5c932b808a3e",
   "metadata": {},
   "outputs": [],
   "source": []
  },
  {
   "cell_type": "code",
   "execution_count": null,
   "id": "ea8927aa-3d5b-4378-b61f-34aa5c164c8d",
   "metadata": {},
   "outputs": [],
   "source": []
  },
  {
   "cell_type": "markdown",
   "id": "491e984e-6705-4928-8f21-1a860420da7e",
   "metadata": {
    "tags": []
   },
   "source": [
    "# Самые аномальные картинки"
   ]
  },
  {
   "cell_type": "markdown",
   "id": "8cb45863-21f2-4ce2-a908-97f3221521ea",
   "metadata": {
    "tags": []
   },
   "source": [
    "## Anomalies dataset"
   ]
  },
  {
   "cell_type": "code",
   "execution_count": null,
   "id": "e4499af7-cdc4-491a-a2fa-6ef40460978e",
   "metadata": {
    "tags": []
   },
   "outputs": [],
   "source": [
    "anomaly_scores = {}\n",
    "\n",
    "for i in tqdm(range(len(anomalies_dataset))):\n",
    "    img, label = anomalies_dataset[i]\n",
    "    img = img[None, :, :, :]\n",
    "    fake_img, img_distance, anomaly_score, z_distance = test(img)\n",
    "    anomaly_scores[i] = anomaly_score\n",
    "    \n",
    "anomaly_scores_sorted = sorted([(score, i) for (i, score) in anomaly_scores.items()])"
   ]
  },
  {
   "cell_type": "code",
   "execution_count": null,
   "id": "8534a84d-9a53-40b4-b979-fe505eaf1146",
   "metadata": {
    "tags": []
   },
   "outputs": [],
   "source": [
    "nrows, ncols = 2, 6\n",
    "\n",
    "fig, axs = plt.subplots(nrows=nrows, ncols=ncols, figsize = (3 * ncols, 3 * nrows))\n",
    "\n",
    "fig.suptitle('Anomaly dataset: biggest anomaly scores')\n",
    "\n",
    "for j in range(ncols):\n",
    "    \n",
    "    ind_in_dataset = anomaly_scores_sorted[len(anomaly_scores_sorted) - 1 - j][1]\n",
    "    \n",
    "    for i in range(nrows):\n",
    "        axs[i, j].axis('off')\n",
    "        axs[i, j].grid('off')\n",
    "        \n",
    "    img, label = anomalies_dataset[ind_in_dataset]\n",
    "    img = img[None, :, :, :]\n",
    "    fake_img, img_distance, anomaly_score, z_distance = test(img)\n",
    "\n",
    "    axs[0, j].imshow((img[0].permute(1, 2, 0).detach().numpy() + 1) / 2)\n",
    "    axs[1, j].imshow((fake_img[0].permute(1, 2, 0).detach().numpy() + 1) / 2)\n",
    "    \n",
    "    axs[0, j].title.set_text(f'anomaly score: {anomaly_score:.4f}')\n",
    "    axs[1, j].title.set_text(f'img dist {img_distance:.4f}, z dist {z_distance:.4f}')\n",
    "    \n",
    "fig.tight_layout()\n",
    "fig.show()"
   ]
  },
  {
   "cell_type": "code",
   "execution_count": null,
   "id": "115bac45-3e64-4e94-a00e-c66c09a744e1",
   "metadata": {
    "tags": []
   },
   "outputs": [],
   "source": [
    "nrows, ncols = 2, 6\n",
    "\n",
    "fig, axs = plt.subplots(nrows=nrows, ncols=ncols, figsize = (3 * ncols, 3 * nrows))\n",
    "\n",
    "fig.suptitle('Anomaly dataset: smallest anomaly scores')\n",
    "\n",
    "for j in range(ncols):\n",
    "    \n",
    "    ind_in_dataset = anomaly_scores_sorted[j][1]\n",
    "    \n",
    "    for i in range(nrows):\n",
    "        axs[i, j].axis('off')\n",
    "        axs[i, j].grid('off')\n",
    "        \n",
    "    img, label = anomalies_dataset[ind_in_dataset]\n",
    "    img = img[None, :, :, :]\n",
    "    fake_img, img_distance, anomaly_score, z_distance = test(img)\n",
    "\n",
    "    axs[0, j].imshow((img[0].permute(1, 2, 0).detach().numpy() + 1) / 2)\n",
    "    axs[1, j].imshow((fake_img[0].permute(1, 2, 0).detach().numpy() + 1) / 2)\n",
    "    \n",
    "    axs[0, j].title.set_text(f'anomaly score: {anomaly_score:.4f}')\n",
    "    axs[1, j].title.set_text(f'img dist {img_distance:.4f}, z dist {z_distance:.4f}')\n",
    "    \n",
    "fig.tight_layout()\n",
    "fig.show()\n",
    "\n",
    "fig.savefig('least_suspicious')"
   ]
  },
  {
   "cell_type": "markdown",
   "id": "f72d8259-6d90-44a1-9c5e-73966e9db94c",
   "metadata": {
    "tags": []
   },
   "source": [
    "## Train dataset"
   ]
  },
  {
   "cell_type": "code",
   "execution_count": null,
   "id": "3165a389-579d-4074-97b4-d92a4107bf6d",
   "metadata": {
    "tags": []
   },
   "outputs": [],
   "source": [
    "anomaly_scores_train = {}\n",
    "\n",
    "for i in tqdm(range(len(train_dataset))):\n",
    "    img, label = train_dataset[i]\n",
    "    img = img[None, :, :, :]\n",
    "    fake_img, img_distance, anomaly_score, z_distance = test(img)\n",
    "    anomaly_scores_train[i] = anomaly_score"
   ]
  },
  {
   "cell_type": "code",
   "execution_count": null,
   "id": "5a514410-2ace-4272-a3fc-43ac167ef95a",
   "metadata": {
    "tags": []
   },
   "outputs": [],
   "source": [
    "anomaly_scores_train_sorted = sorted([(score, i) for (i, score) in anomaly_scores_train.items()])"
   ]
  },
  {
   "cell_type": "code",
   "execution_count": null,
   "id": "f8d4d8bd-b3ab-485b-9206-5e34bc64bfd3",
   "metadata": {},
   "outputs": [],
   "source": []
  },
  {
   "cell_type": "code",
   "execution_count": null,
   "id": "bfaae6c4-7bc9-4b88-8607-06b9f988e29a",
   "metadata": {
    "tags": []
   },
   "outputs": [],
   "source": [
    "anomaly_scores_lst = [score for (score, i) in anomaly_scores_sorted]\n",
    "anomaly_scores_train_lst = [score for (score, i) in anomaly_scores_train_sorted]"
   ]
  },
  {
   "cell_type": "code",
   "execution_count": null,
   "id": "2121e77f-4acd-4885-902e-1a6c8b9b7fb8",
   "metadata": {
    "tags": []
   },
   "outputs": [],
   "source": [
    "plt.hist([anomaly_scores_lst, anomaly_scores_train_lst], bins=400, color=['lightcoral', 'royalblue'], density=True);\n",
    "plt.xlim([0, 0.15]);\n",
    "# plt.hist(anomaly_scores_train_lst, bins=100, color='royalblue');\n",
    "plt.savefig('hist');"
   ]
  },
  {
   "cell_type": "code",
   "execution_count": null,
   "id": "8f4a3a18-903a-4f33-bebb-34ec966a7371",
   "metadata": {
    "tags": []
   },
   "outputs": [],
   "source": [
    "nrows, ncols = 2, 6\n",
    "\n",
    "fig, axs = plt.subplots(nrows=nrows, ncols=ncols, figsize = (3 * ncols, 3 * nrows))\n",
    "\n",
    "fig.suptitle('Train dataset: biggest anomaly scores')\n",
    "\n",
    "for j in range(ncols):\n",
    "    \n",
    "    ind_in_dataset = anomaly_scores_train_sorted[len(anomaly_scores_train_sorted) - 1 - j][1]\n",
    "    \n",
    "    for i in range(nrows):\n",
    "        axs[i, j].axis('off')\n",
    "        axs[i, j].grid('off')\n",
    "        \n",
    "    img, label = train_dataset[ind_in_dataset]\n",
    "    img = img[None, :, :, :]\n",
    "    fake_img, img_distance, anomaly_score, z_distance = test(img)\n",
    "\n",
    "    axs[0, j].imshow((img[0].permute(1, 2, 0).detach().numpy() + 1) / 2)\n",
    "    axs[1, j].imshow((fake_img[0].permute(1, 2, 0).detach().numpy() + 1) / 2)\n",
    "    \n",
    "    axs[0, j].title.set_text(f'[{ind_in_dataset}] anomaly score: {anomaly_score:.4f}')\n",
    "    axs[1, j].title.set_text(f'img dist {img_distance:.4f}, z dist {z_distance:.4f}')\n",
    "    \n",
    "fig.tight_layout()\n",
    "fig.show()"
   ]
  },
  {
   "cell_type": "code",
   "execution_count": null,
   "id": "1ccb8ad0-5616-4539-8c5c-7321f23f75d1",
   "metadata": {
    "tags": []
   },
   "outputs": [],
   "source": [
    "nrows, ncols = 2, 200\n",
    "\n",
    "fig, axs = plt.subplots(nrows=nrows, ncols=ncols, figsize = (3 * ncols, 3 * nrows))\n",
    "\n",
    "fig.suptitle('Train dataset: biggest anomaly scores')\n",
    "\n",
    "for j in range(ncols):\n",
    "    \n",
    "    ind_in_dataset = anomaly_scores_train_sorted[len(anomaly_scores_train_sorted) - 1 - j][1]\n",
    "    \n",
    "    for i in range(nrows):\n",
    "        axs[i, j].axis('off')\n",
    "        axs[i, j].grid('off')\n",
    "        \n",
    "    img, label = train_dataset[ind_in_dataset]\n",
    "    img = img[None, :, :, :]\n",
    "    fake_img, img_distance, anomaly_score, z_distance = test(img)\n",
    "\n",
    "    axs[0, j].imshow((img[0].permute(1, 2, 0).detach().numpy() + 1) / 2)\n",
    "    axs[1, j].imshow((fake_img[0].permute(1, 2, 0).detach().numpy() + 1) / 2)\n",
    "    \n",
    "    axs[0, j].title.set_text(f'[{ind_in_dataset}] anomaly score: {anomaly_score:.4f}')\n",
    "    axs[1, j].title.set_text(f'img dist {img_distance:.4f}, z dist {z_distance:.4f}')\n",
    "    \n",
    "fig.tight_layout()\n",
    "fig.show()"
   ]
  },
  {
   "cell_type": "code",
   "execution_count": null,
   "id": "bec18e82-241b-4851-a410-ab249703d11b",
   "metadata": {
    "tags": []
   },
   "outputs": [],
   "source": [
    "nrows, ncols = 2, 6\n",
    "\n",
    "fig, axs = plt.subplots(nrows=nrows, ncols=ncols, figsize = (3 * ncols, 3 * nrows))\n",
    "\n",
    "fig.suptitle('Train dataset: smallest anomaly scores')\n",
    "\n",
    "for j in range(ncols):\n",
    "    \n",
    "    ind_in_dataset = anomaly_scores_train_sorted[j][1]\n",
    "    \n",
    "    for i in range(nrows):\n",
    "        axs[i, j].axis('off')\n",
    "        axs[i, j].grid('off')\n",
    "        \n",
    "    img, label = train_dataset[ind_in_dataset]\n",
    "    img = img[None, :, :, :]\n",
    "    fake_img, img_distance, anomaly_score, z_distance = test(img)\n",
    "\n",
    "    axs[0, j].imshow((img[0].permute(1, 2, 0).detach().numpy() + 1) / 2)\n",
    "    axs[1, j].imshow((fake_img[0].permute(1, 2, 0).detach().numpy() + 1) / 2)\n",
    "    \n",
    "    axs[0, j].title.set_text(f'anomaly score: {anomaly_score:.4f}')\n",
    "    axs[1, j].title.set_text(f'img dist {img_distance:.4f}, z dist {z_distance:.4f}')\n",
    "    \n",
    "fig.tight_layout()\n",
    "fig.show()"
   ]
  },
  {
   "cell_type": "code",
   "execution_count": null,
   "id": "c4aa5bdd-edbb-4ba0-ac9d-1491b5e7bd1d",
   "metadata": {
    "tags": []
   },
   "outputs": [],
   "source": [
    "nrows, ncols = 2, 200\n",
    "\n",
    "fig, axs = plt.subplots(nrows=nrows, ncols=ncols, figsize = (3 * ncols, 3 * nrows))\n",
    "\n",
    "fig.suptitle('Train dataset: smallest anomaly scores')\n",
    "\n",
    "for j in range(ncols):\n",
    "    \n",
    "    ind_in_dataset = anomaly_scores_train_sorted[j][1]\n",
    "    \n",
    "    for i in range(nrows):\n",
    "        axs[i, j].axis('off')\n",
    "        axs[i, j].grid('off')\n",
    "        \n",
    "    img, label = train_dataset[ind_in_dataset]\n",
    "    img = img[None, :, :, :]\n",
    "    fake_img, img_distance, anomaly_score, z_distance = test(img)\n",
    "\n",
    "    axs[0, j].imshow((img[0].permute(1, 2, 0).detach().numpy() + 1) / 2)\n",
    "    axs[1, j].imshow((fake_img[0].permute(1, 2, 0).detach().numpy() + 1) / 2)\n",
    "    \n",
    "    axs[0, j].title.set_text(f'anomaly score: {anomaly_score:.4f}')\n",
    "    axs[1, j].title.set_text(f'img dist {img_distance:.4f}, z dist {z_distance:.4f}')\n",
    "    \n",
    "fig.tight_layout()\n",
    "fig.show()"
   ]
  },
  {
   "cell_type": "code",
   "execution_count": null,
   "id": "57aef3ad-7747-4cb8-b111-00a2775bb38e",
   "metadata": {},
   "outputs": [],
   "source": []
  },
  {
   "cell_type": "code",
   "execution_count": null,
   "id": "d08b6dac-214d-4bb8-8176-19388077c178",
   "metadata": {},
   "outputs": [],
   "source": []
  }
 ],
 "metadata": {
  "kernelspec": {
   "display_name": "DataSphere Kernel",
   "language": "python",
   "name": "python3"
  },
  "language_info": {
   "codemirror_mode": {
    "name": "ipython",
    "version": 3
   },
   "file_extension": ".py",
   "mimetype": "text/x-python",
   "name": "python",
   "nbconvert_exporter": "python",
   "pygments_lexer": "ipython3",
   "version": "3.10.12"
  }
 },
 "nbformat": 4,
 "nbformat_minor": 5
}
