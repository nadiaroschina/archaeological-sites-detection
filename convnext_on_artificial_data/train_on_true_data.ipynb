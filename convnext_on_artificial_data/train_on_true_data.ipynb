{
 "cells": [
  {
   "cell_type": "code",
   "execution_count": null,
   "id": "5ebe2bb5-d7aa-482e-a63a-666a5e0d01cb",
   "metadata": {},
   "outputs": [],
   "source": [
    "# %pip install torch==2.7"
   ]
  },
  {
   "cell_type": "code",
   "execution_count": 1,
   "id": "197b0053-3cf9-4fed-957b-a123971078b0",
   "metadata": {
    "execution": {
     "iopub.execute_input": "2025-05-18T10:28:19.222419Z",
     "iopub.status.busy": "2025-05-18T10:28:19.221043Z",
     "iopub.status.idle": "2025-05-18T10:29:43.437031Z",
     "shell.execute_reply": "2025-05-18T10:29:43.436079Z",
     "shell.execute_reply.started": "2025-05-18T10:28:19.222367Z"
    },
    "tags": []
   },
   "outputs": [
    {
     "name": "stderr",
     "output_type": "stream",
     "text": [
      "/home/jupyter/.local/lib/python3.10/site-packages/transformers/utils/hub.py:111: FutureWarning: Using `TRANSFORMERS_CACHE` is deprecated and will be removed in v5 of Transformers. Use `HF_HOME` instead.\n",
      "  warnings.warn(\n",
      "2025-05-18 10:28:45.718026: I tensorflow/core/util/port.cc:110] oneDNN custom operations are on. You may see slightly different numerical results due to floating-point round-off errors from different computation orders. To turn them off, set the environment variable `TF_ENABLE_ONEDNN_OPTS=0`.\n",
      "2025-05-18 10:28:51.784849: I tensorflow/core/platform/cpu_feature_guard.cc:182] This TensorFlow binary is optimized to use available CPU instructions in performance-critical operations.\n",
      "To enable the following instructions: AVX2 AVX512F AVX512_VNNI FMA, in other operations, rebuild TensorFlow with the appropriate compiler flags.\n",
      "2025-05-18 10:29:09.766966: W tensorflow/compiler/tf2tensorrt/utils/py_utils.cc:38] TF-TRT Warning: Could not find TensorRT\n"
     ]
    }
   ],
   "source": [
    "import os\n",
    "\n",
    "import pandas as pd\n",
    "import numpy as np\n",
    "\n",
    "import torch\n",
    "from torch import nn as nn\n",
    "from torch.utils.data import Dataset, DataLoader\n",
    "\n",
    "from torchvision import transforms as T\n",
    "\n",
    "from transformers import ConvNextModel\n",
    "\n",
    "from PIL import Image\n",
    "\n",
    "from tqdm.auto import tqdm\n",
    "import matplotlib.pyplot as plt"
   ]
  },
  {
   "cell_type": "code",
   "execution_count": 2,
   "id": "5970d9af-a551-41a9-8c71-2cbf8ed99566",
   "metadata": {
    "execution": {
     "iopub.execute_input": "2025-05-18T10:29:43.439949Z",
     "iopub.status.busy": "2025-05-18T10:29:43.438689Z",
     "iopub.status.idle": "2025-05-18T10:29:43.750087Z",
     "shell.execute_reply": "2025-05-18T10:29:43.749266Z",
     "shell.execute_reply.started": "2025-05-18T10:29:43.439809Z"
    },
    "tags": []
   },
   "outputs": [
    {
     "name": "stdout",
     "output_type": "stream",
     "text": [
      "2.6.0+cu124\n",
      "True\n"
     ]
    }
   ],
   "source": [
    "import torch\n",
    "print(torch.__version__)\n",
    "print(torch.cuda.is_available())"
   ]
  },
  {
   "cell_type": "code",
   "execution_count": 3,
   "id": "06480af8-aa07-4ddb-864d-3db8cfa1bf2e",
   "metadata": {
    "execution": {
     "iopub.execute_input": "2025-05-18T10:29:44.579811Z",
     "iopub.status.busy": "2025-05-18T10:29:44.579042Z",
     "iopub.status.idle": "2025-05-18T10:29:44.603686Z",
     "shell.execute_reply": "2025-05-18T10:29:44.602873Z",
     "shell.execute_reply.started": "2025-05-18T10:29:44.579771Z"
    },
    "tags": []
   },
   "outputs": [
    {
     "name": "stdout",
     "output_type": "stream",
     "text": [
      "4.52.0.dev0\n",
      "True\n"
     ]
    }
   ],
   "source": [
    "import transformers\n",
    "print(transformers.__version__)\n",
    "print(transformers.utils.is_torch_available())"
   ]
  },
  {
   "cell_type": "code",
   "execution_count": 4,
   "id": "dfd0ccb3-59d6-492e-935d-27f42932b286",
   "metadata": {
    "execution": {
     "iopub.execute_input": "2025-05-18T10:29:44.605686Z",
     "iopub.status.busy": "2025-05-18T10:29:44.604690Z",
     "iopub.status.idle": "2025-05-18T10:29:44.626411Z",
     "shell.execute_reply": "2025-05-18T10:29:44.625561Z",
     "shell.execute_reply.started": "2025-05-18T10:29:44.605649Z"
    },
    "tags": []
   },
   "outputs": [
    {
     "data": {
      "text/plain": [
       "device(type='cuda')"
      ]
     },
     "execution_count": 4,
     "metadata": {},
     "output_type": "execute_result"
    }
   ],
   "source": [
    "device = torch.device('cuda') if torch.cuda.is_available() else torch.device('cpu')\n",
    "device"
   ]
  },
  {
   "cell_type": "code",
   "execution_count": 5,
   "id": "e085244c-6777-402b-8847-28f988428fc0",
   "metadata": {
    "execution": {
     "iopub.execute_input": "2025-05-18T10:29:44.629044Z",
     "iopub.status.busy": "2025-05-18T10:29:44.627495Z",
     "iopub.status.idle": "2025-05-18T10:29:44.645324Z",
     "shell.execute_reply": "2025-05-18T10:29:44.644113Z",
     "shell.execute_reply.started": "2025-05-18T10:29:44.628965Z"
    },
    "tags": []
   },
   "outputs": [],
   "source": [
    "true_negatives_dir = '/home/jupyter/datasphere/datasets/sasgis-dataset-100k/google_satellite_data/negative_samples'\n",
    "true_positives_dir = '/home/jupyter/datasphere/datasets/sasgis-dataset-100k/google_satellite_data/positive_samples'\n",
    "# gen_positives_dir = '/home/jupyter/datasphere/datasets/midjourney_generated_positives/midjourney_generated_positives'"
   ]
  },
  {
   "cell_type": "code",
   "execution_count": 19,
   "id": "44f76b73-ed9b-41e4-abc0-af9e893633af",
   "metadata": {
    "execution": {
     "iopub.execute_input": "2025-05-18T10:30:38.929887Z",
     "iopub.status.busy": "2025-05-18T10:30:38.929002Z",
     "iopub.status.idle": "2025-05-18T10:30:38.960376Z",
     "shell.execute_reply": "2025-05-18T10:30:38.959550Z",
     "shell.execute_reply.started": "2025-05-18T10:30:38.929845Z"
    },
    "tags": []
   },
   "outputs": [
    {
     "data": {
      "text/plain": [
       "(165, 49)"
      ]
     },
     "execution_count": 19,
     "metadata": {},
     "output_type": "execute_result"
    }
   ],
   "source": [
    "true_anomaly_indices = [\n",
    "    0, 4, 9, 10, 11, 14, 15, 16, 17, 21, 26, 27, 30, 32, 33, 35, 37,\n",
    "    40, 48, 49, 53, 58, 59, 62, 65, 68, 69, 72, 75, 76,\n",
    "    80, 88, 89, 91, 98, 99, 101, 102, 105, 108, 113, 114, 116,\n",
    "    128, 131, 136, 139, 141, 161\n",
    "]\n",
    "\n",
    "GS_DIR = '/home/jupyter/datasphere/datasets/sasgis-dataset-100k/google_satellite_data'\n",
    "\n",
    "\n",
    "GS_POSITIVE_PATHS = sorted([\n",
    "    f'{GS_DIR}/positive_samples/{s}'\n",
    "    for s in os.listdir(f'{GS_DIR}/positive_samples') \n",
    "    if s.endswith('.jpeg')\n",
    "])\n",
    "\n",
    "GS_DEFINITE_POSITIVE_PATHS = sorted([\n",
    "    f'{GS_DIR}/positive_samples/{s}'\n",
    "    for s in os.listdir(f'{GS_DIR}/positive_samples') \n",
    "    if s.endswith('.jpeg')\n",
    "    and int(s.split('.')[0]) in true_anomaly_indices\n",
    "])\n",
    "\n",
    "# GS_DEFINITE_POSITIVE_COORDS = [\n",
    "#     (lat, lon) \n",
    "#     for i, (iid, _, _, lon, lat, _, _, _, _, _, _, _) \n",
    "#     in pd.read_csv(f'{GS_DIR}/Eastern_desert_archaeological_structures_NEW.csv').iterrows()\n",
    "#     if i in true_anomaly_indices\n",
    "# ]\n",
    "\n",
    "len(GS_POSITIVE_PATHS), len(GS_DEFINITE_POSITIVE_PATHS)"
   ]
  },
  {
   "cell_type": "code",
   "execution_count": 20,
   "id": "11ebe87c-4f78-4c96-8936-20ed0c158673",
   "metadata": {
    "execution": {
     "iopub.execute_input": "2025-05-18T10:30:39.547681Z",
     "iopub.status.busy": "2025-05-18T10:30:39.546881Z",
     "iopub.status.idle": "2025-05-18T10:30:39.601438Z",
     "shell.execute_reply": "2025-05-18T10:30:39.600349Z",
     "shell.execute_reply.started": "2025-05-18T10:30:39.547628Z"
    },
    "tags": []
   },
   "outputs": [
    {
     "data": {
      "text/plain": [
       "(99255, 166)"
      ]
     },
     "execution_count": 20,
     "metadata": {},
     "output_type": "execute_result"
    }
   ],
   "source": [
    "(len(os.listdir(true_negatives_dir)),\n",
    "     len(os.listdir(true_positives_dir)))"
   ]
  },
  {
   "cell_type": "code",
   "execution_count": null,
   "id": "2dcef735-5a3d-474e-a4c0-c920820a4bad",
   "metadata": {},
   "outputs": [],
   "source": []
  },
  {
   "cell_type": "code",
   "execution_count": 21,
   "id": "c1b9906d-70c9-48df-8fba-de5cb375bb82",
   "metadata": {
    "execution": {
     "iopub.execute_input": "2025-05-18T10:30:40.732981Z",
     "iopub.status.busy": "2025-05-18T10:30:40.731928Z",
     "iopub.status.idle": "2025-05-18T10:30:40.755854Z",
     "shell.execute_reply": "2025-05-18T10:30:40.755011Z",
     "shell.execute_reply.started": "2025-05-18T10:30:40.732936Z"
    },
    "tags": []
   },
   "outputs": [],
   "source": [
    "class ChosenPositivesDataset(Dataset):\n",
    "    \n",
    "    def __init__(self, true_negatives_dir, true_positives_filenames, transform=None):\n",
    "        \n",
    "        self.true_negatives_dir = true_negatives_dir\n",
    "        self.true_negatives_filenames = [\n",
    "            x for x in os.listdir(self.true_negatives_dir)\n",
    "            if x.endswith('.jpeg')\n",
    "        ]\n",
    "        self.true_positives_filenames = true_positives_filenames\n",
    "        \n",
    "        self.n_true_negatives = len(self.true_negatives_filenames)\n",
    "        self.n_true_positives = len(self.true_positives_filenames)\n",
    "        \n",
    "        np.random.seed(43)\n",
    "        self.true_negatives_idxs = np.random.choice(\n",
    "            range(self.n_true_negatives),\n",
    "            size=self.n_true_positives,\n",
    "            replace=False\n",
    "        )\n",
    "        \n",
    "        self.transform = transform\n",
    "        \n",
    "    def __len__(self):\n",
    "        return 2 * self.n_true_positives\n",
    "    \n",
    "    def __getitem__(self, idx):\n",
    "        \n",
    "        if idx < self.n_true_positives:\n",
    "            file = os.path.join(self.true_negatives_dir, self.true_negatives_filenames[self.true_negatives_idxs[idx]])\n",
    "            label = 0\n",
    "        else:\n",
    "            file = self.true_positives_filenames[idx - self.n_true_positives]\n",
    "            label = 1        \n",
    "        \n",
    "        image = Image.open(file)\n",
    "        if self.transform:\n",
    "            image = self.transform(image)\n",
    "        return image, label"
   ]
  },
  {
   "cell_type": "code",
   "execution_count": 22,
   "id": "d9f03bcc-fd7c-4802-8c20-f5f095512381",
   "metadata": {
    "execution": {
     "iopub.execute_input": "2025-05-18T10:30:41.624577Z",
     "iopub.status.busy": "2025-05-18T10:30:41.623413Z",
     "iopub.status.idle": "2025-05-18T10:30:41.647948Z",
     "shell.execute_reply": "2025-05-18T10:30:41.647095Z",
     "shell.execute_reply.started": "2025-05-18T10:30:41.624531Z"
    },
    "tags": []
   },
   "outputs": [],
   "source": [
    "transform = T.Compose([\n",
    "    T.Resize((256,256)),\n",
    "    T.CenterCrop((224,224)),\n",
    "    T.ToTensor(),\n",
    "    T.Normalize(mean=[0.485, 0.456, 0.406], std=[0.229, 0.224, 0.225])\n",
    "])"
   ]
  },
  {
   "cell_type": "code",
   "execution_count": 29,
   "id": "d75fe71c-23c6-4ee3-934f-31ce592894ac",
   "metadata": {
    "execution": {
     "iopub.execute_input": "2025-05-18T10:33:41.696507Z",
     "iopub.status.busy": "2025-05-18T10:33:41.695348Z",
     "iopub.status.idle": "2025-05-18T10:33:41.881824Z",
     "shell.execute_reply": "2025-05-18T10:33:41.881047Z",
     "shell.execute_reply.started": "2025-05-18T10:33:41.696464Z"
    },
    "tags": []
   },
   "outputs": [
    {
     "data": {
      "text/plain": [
       "(200, 130, 26)"
      ]
     },
     "execution_count": 29,
     "metadata": {},
     "output_type": "execute_result"
    }
   ],
   "source": [
    "# индексы до 100 в трейн\n",
    "\n",
    "train_dataset = ChosenPositivesDataset(true_negatives_dir, GS_POSITIVE_PATHS[: 100], transform=transform)\n",
    "val1_dataset = ChosenPositivesDataset(true_negatives_dir, GS_POSITIVE_PATHS[100: ], transform=transform)\n",
    "val2_dataset = ChosenPositivesDataset(true_negatives_dir, GS_DEFINITE_POSITIVE_PATHS[-13:], transform=transform)\n",
    "\n",
    "len(train_dataset), len(val1_dataset), len(val2_dataset)"
   ]
  },
  {
   "cell_type": "code",
   "execution_count": 30,
   "id": "60ac9c24-c8e3-4b13-99f5-ba8ec9c8e471",
   "metadata": {
    "execution": {
     "iopub.execute_input": "2025-05-18T10:33:47.072166Z",
     "iopub.status.busy": "2025-05-18T10:33:47.071128Z",
     "iopub.status.idle": "2025-05-18T10:33:47.121910Z",
     "shell.execute_reply": "2025-05-18T10:33:47.121083Z",
     "shell.execute_reply.started": "2025-05-18T10:33:47.072120Z"
    },
    "tags": []
   },
   "outputs": [],
   "source": [
    "batch_size = 32\n",
    "\n",
    "train_loader = DataLoader(\n",
    "    train_dataset,\n",
    "    batch_size=batch_size,\n",
    "    shuffle=True,\n",
    "    num_workers=4\n",
    ")\n",
    "\n",
    "val1_loader = DataLoader(\n",
    "    val1_dataset,\n",
    "    batch_size=batch_size,\n",
    "    shuffle=False,\n",
    "    num_workers=4\n",
    ")\n",
    "\n",
    "val2_loader = DataLoader(\n",
    "    val2_dataset,\n",
    "    batch_size=batch_size,\n",
    "    shuffle=False,\n",
    "    num_workers=4\n",
    ")"
   ]
  },
  {
   "cell_type": "code",
   "execution_count": null,
   "id": "e7c00132-e1f5-4956-a5ed-17a4f6b73cb4",
   "metadata": {
    "tags": []
   },
   "outputs": [],
   "source": [
    "# ConvNextModel.from_pretrained('facebook/convnext-tiny-224')"
   ]
  },
  {
   "cell_type": "code",
   "execution_count": null,
   "id": "0f7937bb-6372-4076-8a48-3fa868b4aa0a",
   "metadata": {
    "tags": []
   },
   "outputs": [],
   "source": [
    "# backbone: bs * 768 * 7 * 7"
   ]
  },
  {
   "cell_type": "code",
   "execution_count": 31,
   "id": "280c5d00-5730-4af2-a96c-7e8984648a31",
   "metadata": {
    "execution": {
     "iopub.execute_input": "2025-05-18T10:33:48.554652Z",
     "iopub.status.busy": "2025-05-18T10:33:48.551941Z",
     "iopub.status.idle": "2025-05-18T10:33:48.569843Z",
     "shell.execute_reply": "2025-05-18T10:33:48.568872Z",
     "shell.execute_reply.started": "2025-05-18T10:33:48.554606Z"
    },
    "tags": []
   },
   "outputs": [],
   "source": [
    "class ConvNextClassifier(nn.Module):\n",
    "    \n",
    "    def __init__(self, backbone):\n",
    "        super().__init__()\n",
    "        self.backbone = backbone\n",
    "        # self.pool = nn.AdaptiveAvgPool2d((1, 1))\n",
    "        self.head = nn.Sequential(\n",
    "            nn.Conv2d(768, 128, kernel_size=(3, 3), padding=(1, 1)),\n",
    "            nn.ReLU(),\n",
    "            nn.AdaptiveAvgPool2d((1, 1)),\n",
    "            nn.Flatten(),\n",
    "            nn.Linear(128, 1)\n",
    "        )\n",
    "        \n",
    "    def forward(self, x):\n",
    "        hid_state = self.backbone(x)['last_hidden_state']\n",
    "        return self.head(hid_state)"
   ]
  },
  {
   "cell_type": "code",
   "execution_count": 32,
   "id": "4f9f7074-7ee4-4ca1-87cd-2ba2acf313d2",
   "metadata": {
    "execution": {
     "iopub.execute_input": "2025-05-18T10:33:49.397573Z",
     "iopub.status.busy": "2025-05-18T10:33:49.396630Z",
     "iopub.status.idle": "2025-05-18T10:33:51.274508Z",
     "shell.execute_reply": "2025-05-18T10:33:51.273637Z",
     "shell.execute_reply.started": "2025-05-18T10:33:49.397527Z"
    },
    "tags": []
   },
   "outputs": [],
   "source": [
    "backbone = ConvNextModel.from_pretrained('facebook/convnext-tiny-224')\n",
    "model = ConvNextClassifier(backbone=backbone)"
   ]
  },
  {
   "cell_type": "code",
   "execution_count": null,
   "id": "0ca772ce-2ed8-4096-a026-02d5e6d7ba8f",
   "metadata": {
    "tags": []
   },
   "outputs": [],
   "source": [
    "# batch = next(iter(val_loader))\n",
    "# imgs, labels = batch\n",
    "# print(f'{imgs.shape=} {labels.shape=}')"
   ]
  },
  {
   "cell_type": "code",
   "execution_count": null,
   "id": "92ae4a08-0fab-4f06-a4bd-f1a0c905831c",
   "metadata": {
    "tags": []
   },
   "outputs": [],
   "source": [
    "# labels"
   ]
  },
  {
   "cell_type": "code",
   "execution_count": null,
   "id": "1f05eb26-351b-4c01-ad78-b7003d061b6c",
   "metadata": {
    "tags": []
   },
   "outputs": [],
   "source": [
    "# with torch.no_grad():\n",
    "    # outs = model(imgs)\n",
    "# print(f'{outs.shape=}')"
   ]
  },
  {
   "cell_type": "code",
   "execution_count": null,
   "id": "323c29cc-00dc-428f-b894-296916f2fb51",
   "metadata": {
    "tags": []
   },
   "outputs": [],
   "source": [
    "# outs.mean()"
   ]
  },
  {
   "cell_type": "code",
   "execution_count": 36,
   "id": "657abb77-c6f1-4c7c-b860-eeb1857352e4",
   "metadata": {
    "execution": {
     "iopub.execute_input": "2025-05-18T10:34:04.159870Z",
     "iopub.status.busy": "2025-05-18T10:34:04.158929Z",
     "iopub.status.idle": "2025-05-18T10:34:04.214249Z",
     "shell.execute_reply": "2025-05-18T10:34:04.213301Z",
     "shell.execute_reply.started": "2025-05-18T10:34:04.159828Z"
    },
    "tags": []
   },
   "outputs": [],
   "source": [
    "criterion = nn.BCEWithLogitsLoss()"
   ]
  },
  {
   "cell_type": "code",
   "execution_count": 37,
   "id": "a4fd7383-1d5b-49aa-9178-1882d750252b",
   "metadata": {
    "execution": {
     "iopub.execute_input": "2025-05-18T10:34:04.360029Z",
     "iopub.status.busy": "2025-05-18T10:34:04.358866Z",
     "iopub.status.idle": "2025-05-18T10:34:04.401105Z",
     "shell.execute_reply": "2025-05-18T10:34:04.400041Z",
     "shell.execute_reply.started": "2025-05-18T10:34:04.359995Z"
    },
    "tags": []
   },
   "outputs": [],
   "source": [
    "def evaluate(model, val_loader):\n",
    "    model.to(device)\n",
    "    model.eval()\n",
    "    total_loss = 0\n",
    "    correct = 0\n",
    "    total = 0\n",
    "    with torch.no_grad():\n",
    "        for inputs, targets in val_loader:\n",
    "            inputs, targets = inputs.to(device), targets.to(device).float()\n",
    "            outputs = model(inputs).squeeze(-1)\n",
    "            loss = criterion(outputs, targets)\n",
    "            total_loss += loss.item()\n",
    "            preds = (torch.sigmoid(outputs) > 0.5).int()\n",
    "            correct += (preds == targets.int()).sum().item()\n",
    "            total += targets.size(0)\n",
    "    return {\n",
    "        'bce_loss': total_loss / len(val_loader), \n",
    "        'accuracy': correct / total\n",
    "    }"
   ]
  },
  {
   "cell_type": "code",
   "execution_count": 38,
   "id": "b3c51470-7f02-48bc-ac94-708a4f22d1cd",
   "metadata": {
    "execution": {
     "iopub.execute_input": "2025-05-18T10:34:04.546144Z",
     "iopub.status.busy": "2025-05-18T10:34:04.544961Z",
     "iopub.status.idle": "2025-05-18T10:34:04.583096Z",
     "shell.execute_reply": "2025-05-18T10:34:04.582247Z",
     "shell.execute_reply.started": "2025-05-18T10:34:04.546099Z"
    },
    "tags": []
   },
   "outputs": [],
   "source": [
    "def train_model(model, train_loader, val_loader, epochs, freeze_backbone, optimizer):\n",
    "    \n",
    "    model.train()\n",
    "    \n",
    "    if freeze_backbone:\n",
    "        for param in model.backbone.parameters():\n",
    "            param.requires_grad = False\n",
    "    else:\n",
    "        for param in model.backbone.parameters():\n",
    "            param.requires_grad = True\n",
    "    \n",
    "    for epoch in range(epochs):\n",
    "        model.train()\n",
    "        running_loss = 0.0\n",
    "        \n",
    "        for inputs, targets in train_loader:\n",
    "            inputs, targets = inputs.to(device), targets.to(device).float()\n",
    "            optimizer.zero_grad()\n",
    "            outputs = model(inputs).squeeze(-1)\n",
    "            loss = criterion(outputs, targets)\n",
    "            loss.backward()\n",
    "            optimizer.step()\n",
    "        \n",
    "            running_loss += loss.item()\n",
    "\n",
    "        val_eval_dict = evaluate(model, val_loader)\n",
    "        val_loss, val_accuracy = val_eval_dict['bce_loss'], val_eval_dict['accuracy']\n",
    "        print(f'Epoch {epoch+1}/{epochs} - Train Loss: {running_loss/len(train_loader):.06f} - Val Loss: {val_loss:.06f} - Val Accuracy: {val_accuracy:.06f}')\n"
   ]
  },
  {
   "cell_type": "code",
   "execution_count": 39,
   "id": "7fa35898-ff0c-4680-b86f-1f908b0a471e",
   "metadata": {
    "execution": {
     "iopub.execute_input": "2025-05-18T10:34:04.607077Z",
     "iopub.status.busy": "2025-05-18T10:34:04.606194Z",
     "iopub.status.idle": "2025-05-18T10:34:06.713032Z",
     "shell.execute_reply": "2025-05-18T10:34:06.711938Z",
     "shell.execute_reply.started": "2025-05-18T10:34:04.607036Z"
    },
    "tags": []
   },
   "outputs": [
    {
     "name": "stdout",
     "output_type": "stream",
     "text": [
      "before training:\n",
      "train: {'bce_loss': 0.6843748433249337, 'accuracy': 0.505}\n",
      "val1: {'bce_loss': 0.6527228355407715, 'accuracy': 0.5230769230769231}\n",
      "val2: {'bce_loss': 0.6957315802574158, 'accuracy': 0.5384615384615384}\n"
     ]
    }
   ],
   "source": [
    "print(f'before training:')\n",
    "print(f'train: {evaluate(model, train_loader)}')\n",
    "print(f'val1: {evaluate(model, val1_loader)}')\n",
    "print(f'val2: {evaluate(model, val2_loader)}')"
   ]
  },
  {
   "cell_type": "code",
   "execution_count": 40,
   "id": "b6219a20-3b17-4c79-9748-ea69724ed006",
   "metadata": {
    "execution": {
     "iopub.execute_input": "2025-05-18T10:34:06.715544Z",
     "iopub.status.busy": "2025-05-18T10:34:06.714778Z",
     "iopub.status.idle": "2025-05-18T10:34:07.392759Z",
     "shell.execute_reply": "2025-05-18T10:34:07.391931Z",
     "shell.execute_reply.started": "2025-05-18T10:34:06.715504Z"
    },
    "tags": []
   },
   "outputs": [],
   "source": [
    "backbone = ConvNextModel.from_pretrained('facebook/convnext-tiny-224')\n",
    "model = ConvNextClassifier(backbone=backbone).to(device)"
   ]
  },
  {
   "cell_type": "code",
   "execution_count": 41,
   "id": "331d9ecc-f7ba-435a-a8d1-a1ae9e434841",
   "metadata": {
    "execution": {
     "iopub.execute_input": "2025-05-18T10:34:07.395401Z",
     "iopub.status.busy": "2025-05-18T10:34:07.394325Z",
     "iopub.status.idle": "2025-05-18T10:34:24.403387Z",
     "shell.execute_reply": "2025-05-18T10:34:24.402461Z",
     "shell.execute_reply.started": "2025-05-18T10:34:07.395361Z"
    },
    "tags": []
   },
   "outputs": [
    {
     "name": "stdout",
     "output_type": "stream",
     "text": [
      "Epoch 1/10 - Train Loss: 0.733008 - Val Loss: 0.756388 - Val Accuracy: 0.453846\n",
      "Epoch 2/10 - Train Loss: 0.721971 - Val Loss: 0.756380 - Val Accuracy: 0.453846\n",
      "Epoch 3/10 - Train Loss: 0.726827 - Val Loss: 0.756373 - Val Accuracy: 0.453846\n",
      "Epoch 4/10 - Train Loss: 0.717322 - Val Loss: 0.756366 - Val Accuracy: 0.453846\n",
      "Epoch 5/10 - Train Loss: 0.720263 - Val Loss: 0.756360 - Val Accuracy: 0.453846\n",
      "Epoch 6/10 - Train Loss: 0.710996 - Val Loss: 0.756354 - Val Accuracy: 0.453846\n",
      "Epoch 7/10 - Train Loss: 0.717701 - Val Loss: 0.756347 - Val Accuracy: 0.453846\n",
      "Epoch 8/10 - Train Loss: 0.702439 - Val Loss: 0.756341 - Val Accuracy: 0.453846\n",
      "Epoch 9/10 - Train Loss: 0.717857 - Val Loss: 0.756336 - Val Accuracy: 0.453846\n",
      "Epoch 10/10 - Train Loss: 0.717677 - Val Loss: 0.756331 - Val Accuracy: 0.453846\n"
     ]
    }
   ],
   "source": [
    "optimizer_head = torch.optim.AdamW(model.head.parameters(), lr=1e-9)\n",
    "train_model(model, train_loader, val1_loader, epochs=10, freeze_backbone=True, optimizer=optimizer_head)"
   ]
  },
  {
   "cell_type": "code",
   "execution_count": 42,
   "id": "f2aa7ea8-c4b7-4b20-ae08-7be63168b4e3",
   "metadata": {
    "execution": {
     "iopub.execute_input": "2025-05-18T10:34:24.405676Z",
     "iopub.status.busy": "2025-05-18T10:34:24.404760Z",
     "iopub.status.idle": "2025-05-18T10:34:26.371473Z",
     "shell.execute_reply": "2025-05-18T10:34:26.370416Z",
     "shell.execute_reply.started": "2025-05-18T10:34:24.405622Z"
    },
    "tags": []
   },
   "outputs": [
    {
     "name": "stdout",
     "output_type": "stream",
     "text": [
      "before unfreezing:\n",
      "train: {'bce_loss': 0.7160036734172276, 'accuracy': 0.49}\n",
      "val1: {'bce_loss': 0.7563306450843811, 'accuracy': 0.45384615384615384}\n",
      "val2: {'bce_loss': 0.7368417978286743, 'accuracy': 0.5384615384615384}\n"
     ]
    }
   ],
   "source": [
    "model.eval();\n",
    "print('before unfreezing:')\n",
    "print(f'train: {evaluate(model, train_loader)}')\n",
    "print(f'val1: {evaluate(model, val1_loader)}')\n",
    "print(f'val2: {evaluate(model, val2_loader)}')"
   ]
  },
  {
   "cell_type": "code",
   "execution_count": 43,
   "id": "a8be6f3e-0f35-4ba5-8d24-d43c366603a9",
   "metadata": {
    "execution": {
     "iopub.execute_input": "2025-05-18T10:34:26.374125Z",
     "iopub.status.busy": "2025-05-18T10:34:26.373576Z",
     "iopub.status.idle": "2025-05-18T10:35:00.459183Z",
     "shell.execute_reply": "2025-05-18T10:35:00.458229Z",
     "shell.execute_reply.started": "2025-05-18T10:34:26.374085Z"
    },
    "tags": []
   },
   "outputs": [
    {
     "name": "stdout",
     "output_type": "stream",
     "text": [
      "Epoch 1/10 - Train Loss: 0.731799 - Val Loss: 0.756331 - Val Accuracy: 0.453846\n",
      "Epoch 2/10 - Train Loss: 0.729191 - Val Loss: 0.756331 - Val Accuracy: 0.453846\n",
      "Epoch 3/10 - Train Loss: 0.730258 - Val Loss: 0.756331 - Val Accuracy: 0.453846\n",
      "Epoch 4/10 - Train Loss: 0.715096 - Val Loss: 0.756331 - Val Accuracy: 0.453846\n",
      "Epoch 5/10 - Train Loss: 0.717600 - Val Loss: 0.756331 - Val Accuracy: 0.453846\n",
      "Epoch 6/10 - Train Loss: 0.720584 - Val Loss: 0.756331 - Val Accuracy: 0.453846\n",
      "Epoch 7/10 - Train Loss: 0.730247 - Val Loss: 0.756331 - Val Accuracy: 0.453846\n",
      "Epoch 8/10 - Train Loss: 0.720116 - Val Loss: 0.756331 - Val Accuracy: 0.453846\n",
      "Epoch 9/10 - Train Loss: 0.720071 - Val Loss: 0.756331 - Val Accuracy: 0.453846\n",
      "Epoch 10/10 - Train Loss: 0.709116 - Val Loss: 0.756331 - Val Accuracy: 0.453846\n"
     ]
    }
   ],
   "source": [
    "optimizer_fine_tune = torch.optim.AdamW(model.parameters(), lr=1e-11)\n",
    "train_model(model, train_loader, val1_loader, epochs=10, freeze_backbone=False, optimizer=optimizer_fine_tune)"
   ]
  },
  {
   "cell_type": "code",
   "execution_count": 44,
   "id": "4a8573bf-1b64-4373-9e01-d04779662499",
   "metadata": {
    "execution": {
     "iopub.execute_input": "2025-05-18T10:35:00.460920Z",
     "iopub.status.busy": "2025-05-18T10:35:00.460385Z",
     "iopub.status.idle": "2025-05-18T10:35:02.503453Z",
     "shell.execute_reply": "2025-05-18T10:35:02.502472Z",
     "shell.execute_reply.started": "2025-05-18T10:35:00.460880Z"
    },
    "tags": []
   },
   "outputs": [
    {
     "name": "stdout",
     "output_type": "stream",
     "text": [
      "final scores:\n",
      "train: {'bce_loss': 0.7237334847450256, 'accuracy': 0.49}\n",
      "val1: {'bce_loss': 0.7563306331634522, 'accuracy': 0.45384615384615384}\n",
      "val2: {'bce_loss': 0.7368417382240295, 'accuracy': 0.5384615384615384}\n"
     ]
    }
   ],
   "source": [
    "model.eval();\n",
    "print('final scores:')\n",
    "print(f'train: {evaluate(model, train_loader)}')\n",
    "print(f'val1: {evaluate(model, val1_loader)}')\n",
    "print(f'val2: {evaluate(model, val2_loader)}')"
   ]
  },
  {
   "cell_type": "markdown",
   "id": "33ed5f46-0350-4fcb-91ad-9ddb7dab9512",
   "metadata": {},
   "source": [
    "# Подсчет метрик"
   ]
  },
  {
   "cell_type": "code",
   "execution_count": 45,
   "id": "d85a5d1f-3715-4f52-8b73-3ed1a496c642",
   "metadata": {
    "execution": {
     "iopub.execute_input": "2025-05-18T10:40:28.543412Z",
     "iopub.status.busy": "2025-05-18T10:40:28.542374Z",
     "iopub.status.idle": "2025-05-18T10:40:28.570245Z",
     "shell.execute_reply": "2025-05-18T10:40:28.569373Z",
     "shell.execute_reply.started": "2025-05-18T10:40:28.543364Z"
    },
    "tags": []
   },
   "outputs": [],
   "source": [
    "model.eval();"
   ]
  },
  {
   "cell_type": "code",
   "execution_count": 46,
   "id": "5a9ff41f-8945-4528-8c7e-dac562efd304",
   "metadata": {
    "execution": {
     "iopub.execute_input": "2025-05-18T10:40:28.715338Z",
     "iopub.status.busy": "2025-05-18T10:40:28.714344Z",
     "iopub.status.idle": "2025-05-18T10:40:29.514234Z",
     "shell.execute_reply": "2025-05-18T10:40:29.513245Z",
     "shell.execute_reply.started": "2025-05-18T10:40:28.715294Z"
    },
    "tags": []
   },
   "outputs": [],
   "source": [
    "val1_outputs = np.array([])\n",
    "val1_lables = np.array([])\n",
    "for (imgs_batch, labels_batch) in val1_loader:\n",
    "    imgs_batch = imgs_batch.to(device)\n",
    "    output = model(imgs_batch).flatten().detach().cpu().numpy()\n",
    "    val1_outputs = np.append(val1_outputs, output)\n",
    "    val1_lables = np.append(val1_lables, labels_batch)"
   ]
  },
  {
   "cell_type": "code",
   "execution_count": 47,
   "id": "e6de70de-0fa6-42ed-aa11-b9eecc804c63",
   "metadata": {
    "execution": {
     "iopub.execute_input": "2025-05-18T10:40:29.516898Z",
     "iopub.status.busy": "2025-05-18T10:40:29.516304Z",
     "iopub.status.idle": "2025-05-18T10:40:29.790507Z",
     "shell.execute_reply": "2025-05-18T10:40:29.789407Z",
     "shell.execute_reply.started": "2025-05-18T10:40:29.516852Z"
    },
    "tags": []
   },
   "outputs": [],
   "source": [
    "val2_outputs = np.array([])\n",
    "val2_lables = np.array([])\n",
    "for (imgs_batch, labels_batch) in val2_loader:\n",
    "    imgs_batch = imgs_batch.to(device)\n",
    "    output = model(imgs_batch).flatten().detach().cpu().numpy()\n",
    "    val2_outputs = np.append(val2_outputs, output)\n",
    "    val2_lables = np.append(val2_lables, labels_batch)"
   ]
  },
  {
   "cell_type": "code",
   "execution_count": 48,
   "id": "140185b9-dd37-45a1-82cd-1ff309c9f7c5",
   "metadata": {
    "execution": {
     "iopub.execute_input": "2025-05-18T10:40:29.793422Z",
     "iopub.status.busy": "2025-05-18T10:40:29.792278Z",
     "iopub.status.idle": "2025-05-18T10:40:30.805076Z",
     "shell.execute_reply": "2025-05-18T10:40:30.804126Z",
     "shell.execute_reply.started": "2025-05-18T10:40:29.793378Z"
    },
    "tags": []
   },
   "outputs": [],
   "source": [
    "train_outputs = np.array([])\n",
    "train_lables = np.array([])\n",
    "for (imgs_batch, labels_batch) in train_loader:\n",
    "    imgs_batch = imgs_batch.to(device)\n",
    "    output = model(imgs_batch).flatten().detach().cpu().numpy()\n",
    "    train_outputs = np.append(train_outputs, output)\n",
    "    train_lables = np.append(train_lables, labels_batch)"
   ]
  },
  {
   "cell_type": "code",
   "execution_count": 49,
   "id": "6606f104-e11b-4d36-bdaa-6806f18fe07d",
   "metadata": {
    "execution": {
     "iopub.execute_input": "2025-05-18T10:40:30.807465Z",
     "iopub.status.busy": "2025-05-18T10:40:30.806917Z",
     "iopub.status.idle": "2025-05-18T10:40:31.109303Z",
     "shell.execute_reply": "2025-05-18T10:40:31.108399Z",
     "shell.execute_reply.started": "2025-05-18T10:40:30.807410Z"
    }
   },
   "outputs": [
    {
     "data": {
      "image/png": "[encoded data removed]",
      "text/plain": [
       "<Figure size 640x480 with 1 Axes>"
      ]
     },
     "metadata": {},
     "output_type": "display_data"
    }
   ],
   "source": [
    "plt.hist(train_outputs[train_lables == 1], density=True, alpha=0.5, bins=20, color='lightcoral', label='train positives')\n",
    "plt.hist(train_outputs[train_lables == 0], density=True, alpha=0.5, bins=20, color='cornflowerblue', label='train negatives')\n",
    "plt.xlabel('train logits')\n",
    "plt.legend()\n",
    "plt.show()"
   ]
  },
  {
   "cell_type": "code",
   "execution_count": 50,
   "id": "ed7536da-22a2-477b-9d8a-452cd717127f",
   "metadata": {
    "execution": {
     "iopub.execute_input": "2025-05-18T10:40:31.110916Z",
     "iopub.status.busy": "2025-05-18T10:40:31.110427Z",
     "iopub.status.idle": "2025-05-18T10:40:31.377007Z",
     "shell.execute_reply": "2025-05-18T10:40:31.376173Z",
     "shell.execute_reply.started": "2025-05-18T10:40:31.110878Z"
    },
    "tags": []
   },
   "outputs": [
    {
     "data": {
      "image/png": "[encoded data removed]",
      "text/plain": [
       "<Figure size 640x480 with 1 Axes>"
      ]
     },
     "metadata": {},
     "output_type": "display_data"
    }
   ],
   "source": [
    "plt.hist(val1_outputs[val1_lables == 1], density=True, alpha=0.5, bins=20, color='lightcoral', label='val1 positives')\n",
    "plt.hist(val1_outputs[val1_lables == 0], density=True, alpha=0.5, bins=20, color='cornflowerblue', label='val1 negatives')\n",
    "plt.xlabel('val1 logits')\n",
    "plt.legend()\n",
    "plt.show()"
   ]
  },
  {
   "cell_type": "code",
   "execution_count": 51,
   "id": "4d571ebf-5d82-4afe-aba4-677ab138c4d2",
   "metadata": {
    "execution": {
     "iopub.execute_input": "2025-05-18T10:40:31.379374Z",
     "iopub.status.busy": "2025-05-18T10:40:31.378827Z",
     "iopub.status.idle": "2025-05-18T10:40:31.622054Z",
     "shell.execute_reply": "2025-05-18T10:40:31.621198Z",
     "shell.execute_reply.started": "2025-05-18T10:40:31.379336Z"
    },
    "tags": []
   },
   "outputs": [
    {
     "data": {
      "image/png": "[encoded data removed]",
      "text/plain": [
       "<Figure size 640x480 with 1 Axes>"
      ]
     },
     "metadata": {},
     "output_type": "display_data"
    }
   ],
   "source": [
    "plt.hist(val2_outputs[val2_lables == 1], density=True, alpha=0.5, bins=20, color='lightcoral', label='val2 positives')\n",
    "plt.hist(val2_outputs[val2_lables == 0], density=True, alpha=0.5, bins=20, color='cornflowerblue', label='val2 negatives')\n",
    "plt.xlabel('val2 logits')\n",
    "plt.legend()\n",
    "plt.show()"
   ]
  },
  {
   "cell_type": "code",
   "execution_count": null,
   "id": "e8f5c5d8-bb79-41d2-852a-312902a319a2",
   "metadata": {},
   "outputs": [],
   "source": []
  },
  {
   "cell_type": "code",
   "execution_count": null,
   "id": "f417f4a1-d9c4-45af-9138-1101fe06a519",
   "metadata": {},
   "outputs": [],
   "source": []
  },
  {
   "cell_type": "code",
   "execution_count": 52,
   "id": "8e18b1e7-7c65-4e88-bf74-c8a2edf8c676",
   "metadata": {
    "execution": {
     "iopub.execute_input": "2025-05-18T10:40:32.732832Z",
     "iopub.status.busy": "2025-05-18T10:40:32.731785Z",
     "iopub.status.idle": "2025-05-18T10:40:32.765946Z",
     "shell.execute_reply": "2025-05-18T10:40:32.765116Z",
     "shell.execute_reply.started": "2025-05-18T10:40:32.732789Z"
    }
   },
   "outputs": [],
   "source": [
    "precision_thresholds = np.array([0.80, 0.85, 0.90, 0.95])"
   ]
  },
  {
   "cell_type": "code",
   "execution_count": 53,
   "id": "748d6762-fefa-4a4b-b3f0-b5dd5d0d604a",
   "metadata": {
    "execution": {
     "iopub.execute_input": "2025-05-18T10:40:32.911541Z",
     "iopub.status.busy": "2025-05-18T10:40:32.910299Z",
     "iopub.status.idle": "2025-05-18T10:40:32.931412Z",
     "shell.execute_reply": "2025-05-18T10:40:32.930448Z",
     "shell.execute_reply.started": "2025-05-18T10:40:32.911496Z"
    },
    "tags": []
   },
   "outputs": [],
   "source": [
    "val1_anomaly_scores_np = np.array(sorted(val1_outputs[val1_lables == 1]))\n",
    "val1_negative_scores_np = np.array(sorted(val1_outputs[val1_lables == 0]))\n",
    "\n",
    "val2_anomaly_scores_np = np.array(sorted(val2_outputs[val2_lables == 1]))\n",
    "val2_negative_scores_np = np.array(sorted(val2_outputs[val2_lables == 0]))"
   ]
  },
  {
   "cell_type": "code",
   "execution_count": 54,
   "id": "113b0f08-25bd-4c5f-a4e6-f53323a840d8",
   "metadata": {
    "execution": {
     "iopub.execute_input": "2025-05-18T10:40:33.097003Z",
     "iopub.status.busy": "2025-05-18T10:40:33.095873Z",
     "iopub.status.idle": "2025-05-18T10:40:33.122704Z",
     "shell.execute_reply": "2025-05-18T10:40:33.121721Z",
     "shell.execute_reply.started": "2025-05-18T10:40:33.096956Z"
    },
    "tags": []
   },
   "outputs": [
    {
     "name": "stdout",
     "output_type": "stream",
     "text": [
      "val1\n",
      "precision 0.80 anomaly score threshold -0.55 result 12.31%\n",
      "precision 0.85 anomaly score threshold -0.56 result 12.31%\n",
      "precision 0.90 anomaly score threshold -0.60 result 10.77%\n",
      "precision 0.95 anomaly score threshold -0.66 result 7.69%\n"
     ]
    }
   ],
   "source": [
    "thesholds = np.quantile(val1_anomaly_scores_np, 1 - precision_thresholds)\n",
    "percent_disproved = np.array([\n",
    "    np.mean(val1_negative_scores_np < threshold)\n",
    "    for threshold in thesholds\n",
    "])\n",
    "\n",
    "# сколько процентов данных отбрасываются из рассмотрения для фиксированного порого точности\n",
    "\n",
    "print('val1')\n",
    "for (pt, ast, pd) in zip(precision_thresholds, thesholds, percent_disproved):\n",
    "    print(f'precision {pt:.02f} anomaly score threshold {ast:.02f} result {pd * 100:.02f}%')\n",
    "    \n",
    "    \n",
    "# with open(f'{anomaly_scores_dir}/thresholds_anomalies.txt', 'w') as f:\n",
    "#     for (pt, ast, pd) in zip(precision_thresholds, thesholds, percent_disproved):\n",
    "        # f.write(f'preci/sion {pt:.02f} anomaly score threshold {ast:.02f} result {pd * 100:.02f}%\\n')"
   ]
  },
  {
   "cell_type": "code",
   "execution_count": 55,
   "id": "c7879080-24a3-4417-960b-6b889a5b39d2",
   "metadata": {
    "execution": {
     "iopub.execute_input": "2025-05-18T10:40:34.894453Z",
     "iopub.status.busy": "2025-05-18T10:40:34.893387Z",
     "iopub.status.idle": "2025-05-18T10:40:34.922129Z",
     "shell.execute_reply": "2025-05-18T10:40:34.921203Z",
     "shell.execute_reply.started": "2025-05-18T10:40:34.894409Z"
    },
    "tags": []
   },
   "outputs": [
    {
     "name": "stdout",
     "output_type": "stream",
     "text": [
      "val2\n",
      "precision 0.80 anomaly score threshold -0.56 result 7.69%\n",
      "precision 0.85 anomaly score threshold -0.57 result 7.69%\n",
      "precision 0.90 anomaly score threshold -0.59 result 7.69%\n",
      "precision 0.95 anomaly score threshold -0.66 result 0.00%\n"
     ]
    }
   ],
   "source": [
    "thesholds = np.quantile(val2_anomaly_scores_np, 1 - precision_thresholds)\n",
    "percent_disproved = np.array([\n",
    "    np.mean(val2_negative_scores_np < threshold)\n",
    "    for threshold in thesholds\n",
    "])\n",
    "\n",
    "# сколько процентов данных отбрасываются из рассмотрения для фиксированного порого точности\n",
    "\n",
    "print('val2')\n",
    "for (pt, ast, pd) in zip(precision_thresholds, thesholds, percent_disproved):\n",
    "    print(f'precision {pt:.02f} anomaly score threshold {ast:.02f} result {pd * 100:.02f}%')\n",
    "    \n",
    "    \n",
    "# with open(f'{anomaly_scores_dir}/thresholds_anomalies.txt', 'w') as f:\n",
    "#     for (pt, ast, pd) in zip(precision_thresholds, thesholds, percent_disproved):\n",
    "        # f.write(f'preci/sion {pt:.02f} anomaly score threshold {ast:.02f} result {pd * 100:.02f}%\\n')"
   ]
  },
  {
   "cell_type": "code",
   "execution_count": null,
   "id": "727d8e9d-5e75-4d87-a77a-e62d8b42a0ae",
   "metadata": {},
   "outputs": [],
   "source": []
  },
  {
   "cell_type": "markdown",
   "id": "20da6546-5f33-4e0f-adc8-4a555d9e5a17",
   "metadata": {},
   "source": [
    "# Отрисовка предсказаний"
   ]
  },
  {
   "cell_type": "code",
   "execution_count": null,
   "id": "17c83f80-9de8-49c8-a2fc-4d4afc2c3c1c",
   "metadata": {
    "tags": []
   },
   "outputs": [],
   "source": [
    "def plot_prediction(indices, dataset_pil=val1_dataset_pil, dataset=val1_dataset):\n",
    "    \n",
    "    n = len(indices)\n",
    "    fig, axs = plt.subplots(nrows=1, ncols=n, figsize=(4 * n, 4))\n",
    "    \n",
    "    for ax_ind, img_ind in enumerate(indices):\n",
    "        \n",
    "        pil_img, _ = dataset_pil[img_ind]\n",
    "        img, label = dataset[img_ind]\n",
    "        img = img.reshape(1, 3, 224, 224).to(device)\n",
    "        out = torch.sigmoid(model(img)).detach().cpu().numpy().item()\n",
    "        \n",
    "        axs[ax_ind].axis('off')\n",
    "        axs[ax_ind].imshow(pil_img)\n",
    "        axs[ax_ind].set_title(f'{out:.08f}')\n",
    "        \n",
    "    fig.tight_layout()\n",
    "    fig.show()    "
   ]
  },
  {
   "cell_type": "code",
   "execution_count": null,
   "id": "d5bbfe37-0419-4d63-b367-f78869e69517",
   "metadata": {
    "tags": []
   },
   "outputs": [],
   "source": [
    "plot_prediction([0, 1, 2, 3])"
   ]
  },
  {
   "cell_type": "code",
   "execution_count": null,
   "id": "e85a0e3e-bae1-4ba7-8e79-6acd34682b31",
   "metadata": {},
   "outputs": [],
   "source": []
  }
 ],
 "metadata": {
  "kernelspec": {
   "display_name": "DataSphere Kernel",
   "language": "python",
   "name": "python3"
  },
  "language_info": {
   "codemirror_mode": {
    "name": "ipython",
    "version": 3
   },
   "file_extension": ".py",
   "mimetype": "text/x-python",
   "name": "python",
   "nbconvert_exporter": "python",
   "pygments_lexer": "ipython3",
   "version": "3.10.12"
  }
 },
 "nbformat": 4,
 "nbformat_minor": 5
}
