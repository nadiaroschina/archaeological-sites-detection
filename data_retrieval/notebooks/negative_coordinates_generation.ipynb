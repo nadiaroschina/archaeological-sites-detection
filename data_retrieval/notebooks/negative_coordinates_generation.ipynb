{
 "cells": [
  {
   "cell_type": "code",
   "execution_count": 7,
   "metadata": {},
   "outputs": [],
   "source": [
    "import os\n",
    "import sys\n",
    "\n",
    "import numpy as np\n",
    "import pandas as pd\n",
    "\n",
    "from tqdm.auto import tqdm"
   ]
  },
  {
   "cell_type": "code",
   "execution_count": 8,
   "metadata": {},
   "outputs": [],
   "source": [
    "RECTANGLES = [\n",
    "    (28.389613, 33.517480, 28.773175, 34.317575),\n",
    "    (29.504653, 31.439167, 28.247273, 32.362272),\n",
    "    (26.423533, 32.083364, 27.877815, 33.335276),\n",
    "    (23.151609, 33.117350, 25.874058, 34.206830)\n",
    "]"
   ]
  },
  {
   "cell_type": "code",
   "execution_count": 9,
   "metadata": {},
   "outputs": [],
   "source": [
    "N = 100000\n",
    "proportions = [0.15, 0.25, 0.25, 0.35]\n",
    "coords = []\n",
    "\n",
    "for i, (lat1, lon1, lat2, lon2) in enumerate(RECTANGLES):\n",
    "    n = int(proportions[i] * N)\n",
    "    lat_range, lon_range = abs(lat1 - lat2), abs(lon1 - lon2)\n",
    "    n_lat, n_lon = int(np.sqrt(n * lat_range / lon_range)), int(np.sqrt(n * lon_range / lat_range))\n",
    "    lats = np.linspace(lat1, lat2, n_lat)\n",
    "    lons = np.linspace(lon1, lon2, n_lon)\n",
    "    coords.extend([\n",
    "        (lat, lon, i)\n",
    "        for lon in lons for lat in lats\n",
    "    ])"
   ]
  },
  {
   "cell_type": "code",
   "execution_count": 11,
   "metadata": {},
   "outputs": [
    {
     "data": {
      "text/plain": [
       "99254"
      ]
     },
     "execution_count": 11,
     "metadata": {},
     "output_type": "execute_result"
    }
   ],
   "source": [
    "len(coords)"
   ]
  },
  {
   "cell_type": "code",
   "execution_count": 10,
   "metadata": {},
   "outputs": [],
   "source": [
    "with open('negative_coords_new.csv', 'w') as f:\n",
    "    f.write('lat,lon,rect\\n')\n",
    "    f.writelines([\n",
    "        f'{lat},{lon},{i}\\n'\n",
    "        for (lat, lon, i) in coords\n",
    "    ])\n",
    "  "
   ]
  },
  {
   "cell_type": "code",
   "execution_count": null,
   "metadata": {},
   "outputs": [],
   "source": []
  }
 ],
 "metadata": {
  "kernelspec": {
   "display_name": "dl-v2",
   "language": "python",
   "name": "python3"
  },
  "language_info": {
   "codemirror_mode": {
    "name": "ipython",
    "version": 3
   },
   "file_extension": ".py",
   "mimetype": "text/x-python",
   "name": "python",
   "nbconvert_exporter": "python",
   "pygments_lexer": "ipython3",
   "version": "3.12.2"
  }
 },
 "nbformat": 4,
 "nbformat_minor": 2
}
