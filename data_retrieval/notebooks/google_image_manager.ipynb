{
 "cells": [
  {
   "cell_type": "markdown",
   "metadata": {},
   "source": [
    "# Скачивание центрированных изображений из google maps на локальное хранилище"
   ]
  },
  {
   "cell_type": "code",
   "execution_count": 1,
   "metadata": {},
   "outputs": [],
   "source": [
    "import requests\n",
    "import json\n",
    "\n",
    "import pandas as pd\n",
    "import numpy as np\n",
    "import scipy.stats as ss\n",
    "\n",
    "from tqdm.notebook import tqdm\n",
    "\n",
    "import sys\n",
    "sys.path.append('../utils')\n",
    "from google_tile_centered_downloader import download_centered_image, get_tile_center_coords\n",
    "from google_tile_downloader import download_google_map_tile"
   ]
  },
  {
   "cell_type": "markdown",
   "metadata": {},
   "source": [
    "## Настройка сессии (аналогичо [google_api_sandbox.ipynb](google_api_sandbox.ipynb))"
   ]
  },
  {
   "cell_type": "code",
   "execution_count": null,
   "metadata": {},
   "outputs": [],
   "source": [
    "API_KEY = <>\n",
    "\n",
    "url = f'https://tile.googleapis.com/v1/createSession?key={API_KEY}'\n",
    "headers = {'Content-Type': 'application/json'}\n",
    "data = {\n",
    "    'mapType': 'satellite',\n",
    "    'language': 'en-US',\n",
    "    'region': 'US'\n",
    "}\n",
    "\n",
    "response = requests.post(url, json=data, headers=headers)\n",
    "session_token = json.loads(response.text)['session']"
   ]
  },
  {
   "cell_type": "code",
   "execution_count": 3,
   "metadata": {},
   "outputs": [],
   "source": [
    "zoom = 17"
   ]
  },
  {
   "cell_type": "markdown",
   "metadata": {},
   "source": [
    "## Считываем координаты и скачиваем positive samples"
   ]
  },
  {
   "cell_type": "code",
   "execution_count": 4,
   "metadata": {},
   "outputs": [],
   "source": [
    "positives_df_new = pd.read_csv('../coordinates_data/Eastern_desert_archaeological_structures_NEW.csv', delimiter=',')"
   ]
  },
  {
   "cell_type": "code",
   "execution_count": null,
   "metadata": {},
   "outputs": [],
   "source": [
    "# errors = []\n",
    "# limit = len(positives_df_new)\n",
    "# for i in tqdm(range(limit)):\n",
    "#     id_, name, _, lon, lat, _, _, _, _, _, _, _ = positives_df_new.iloc[i]\n",
    "#     try:\n",
    "#         img = download_centered_image(lat=lat, lon=lon, z=zoom, session_token=session_token, api_key=API_KEY)\n",
    "#         img.save(f'../googlemaps_data/positive_samples/pos_{id_}.png')\n",
    "#     except Exception as e:\n",
    "#         print(f'{i=} exception: {e}')\n",
    "#         errors.append(name)\n",
    "# print(f'{len(errors)=}')"
   ]
  },
  {
   "cell_type": "markdown",
   "metadata": {},
   "source": [
    "## Генерируем и сохраняем координаты negative samples"
   ]
  },
  {
   "cell_type": "code",
   "execution_count": 5,
   "metadata": {},
   "outputs": [],
   "source": [
    "lon_coords = np.array(positives_df_new['x coordina'])\n",
    "lat_coords = np.array(positives_df_new['y coordina'])\n",
    "\n",
    "n = len(lon_coords)\n",
    "N = 200000"
   ]
  },
  {
   "cell_type": "code",
   "execution_count": 6,
   "metadata": {},
   "outputs": [],
   "source": [
    "np.random.seed(42)\n",
    "weights = np.random.dirichlet(np.ones(n) * 0.2, size=N)"
   ]
  },
  {
   "cell_type": "code",
   "execution_count": 7,
   "metadata": {},
   "outputs": [
    {
     "data": {
      "application/vnd.jupyter.widget-view+json": {
       "model_id": "b32914a2fa9144e9961decd7ad9e349c",
       "version_major": 2,
       "version_minor": 0
      },
      "text/plain": [
       "  0%|          | 0/200000 [00:00<?, ?it/s]"
      ]
     },
     "metadata": {},
     "output_type": "display_data"
    }
   ],
   "source": [
    "generated_coords = []\n",
    "centered_coords = []\n",
    "\n",
    "for ind in tqdm(range(N)):\n",
    "    lat = np.dot(lat_coords, weights[ind])\n",
    "    lon = np.dot(lon_coords, weights[ind])\n",
    "    generated_coords.append((lat, lon))\n",
    "\n",
    "    lat_tilecenter, lon_tilecenter = get_tile_center_coords(lat, lon, zoom)\n",
    "    centered_coords.append((lat_tilecenter, lon_tilecenter))"
   ]
  },
  {
   "cell_type": "code",
   "execution_count": 8,
   "metadata": {},
   "outputs": [
    {
     "data": {
      "application/vnd.jupyter.widget-view+json": {
       "model_id": "265707a59ce84f96b2e6135cdf7a7272",
       "version_major": 2,
       "version_minor": 0
      },
      "text/plain": [
       "  0%|          | 0/200000 [00:00<?, ?it/s]"
      ]
     },
     "metadata": {},
     "output_type": "display_data"
    }
   ],
   "source": [
    "with open('../googlemaps_data/negative_coords.csv', 'w') as f:\n",
    "    f.write('img_id,lat,lon\\n')\n",
    "    for i, (lat, lon) in tqdm(enumerate(centered_coords), total=N):\n",
    "        img_id = str(i).zfill(6)\n",
    "        f.write(f'{img_id},{lat},{lon}\\n')"
   ]
  },
  {
   "cell_type": "markdown",
   "metadata": {},
   "source": [
    "## Проверяем что все в порядке"
   ]
  },
  {
   "cell_type": "code",
   "execution_count": 14,
   "metadata": {},
   "outputs": [],
   "source": [
    "# lat1, lon1 = generated_coords[2]\n",
    "# lat1, lon1"
   ]
  },
  {
   "cell_type": "code",
   "execution_count": 15,
   "metadata": {},
   "outputs": [],
   "source": [
    "# download_centered_image(lat=lat1, lon=lon1, z=zoom, session_token=session_token, api_key=API_KEY)"
   ]
  },
  {
   "cell_type": "code",
   "execution_count": 16,
   "metadata": {},
   "outputs": [],
   "source": [
    "# lat2, lon2 = centered_coords[2]\n",
    "# lat2, lon2"
   ]
  },
  {
   "cell_type": "code",
   "execution_count": 17,
   "metadata": {},
   "outputs": [],
   "source": [
    "# download_google_map_tile(lat=lat1, lon=lon1, z=zoom, session_token=session_token, api_key=API_KEY)"
   ]
  },
  {
   "cell_type": "code",
   "execution_count": 18,
   "metadata": {},
   "outputs": [],
   "source": [
    "# download_google_map_tile(lat=lat2, lon=lon2, z=zoom, session_token=session_token, api_key=API_KEY)"
   ]
  },
  {
   "cell_type": "markdown",
   "metadata": {},
   "source": [
    "## Cкачиваем negative samples"
   ]
  },
  {
   "cell_type": "code",
   "execution_count": 21,
   "metadata": {},
   "outputs": [],
   "source": [
    "errors = []"
   ]
  },
  {
   "cell_type": "code",
   "execution_count": 20,
   "metadata": {},
   "outputs": [
    {
     "data": {
      "application/vnd.jupyter.widget-view+json": {
       "model_id": "5d728c30362f4d7fb44cf3c52bcc9152",
       "version_major": 2,
       "version_minor": 0
      },
      "text/plain": [
       "  0%|          | 0/10 [00:00<?, ?it/s]"
      ]
     },
     "metadata": {},
     "output_type": "display_data"
    }
   ],
   "source": [
    "for i in tqdm(range(N)):\n",
    "\n",
    "    img_id = str(i).zfill(6)\n",
    "    \n",
    "    try:\n",
    "        lat, lon = centered_coords[i]\n",
    "        local_file_name = f'../googlemaps_data/negative_samples/{img_id}.png'\n",
    "        img = download_google_map_tile(lat=lat, lon=lon, z=zoom, session_token=session_token, api_key=API_KEY)\n",
    "        img.save(local_file_name)\n",
    "\n",
    "    except Exception as e:\n",
    "        print(f'{img_id=}: Exception {e}')\n",
    "        errors.append(img_id)\n",
    "        continue"
   ]
  }
 ],
 "metadata": {
  "kernelspec": {
   "display_name": "dl-v2",
   "language": "python",
   "name": "python3"
  },
  "language_info": {
   "codemirror_mode": {
    "name": "ipython",
    "version": 3
   },
   "file_extension": ".py",
   "mimetype": "text/x-python",
   "name": "python",
   "nbconvert_exporter": "python",
   "pygments_lexer": "ipython3",
   "version": "3.12.2"
  }
 },
 "nbformat": 4,
 "nbformat_minor": 2
}
