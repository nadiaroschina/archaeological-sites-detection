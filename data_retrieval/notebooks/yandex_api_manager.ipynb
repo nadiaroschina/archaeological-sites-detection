{
 "cells": [
  {
   "cell_type": "markdown",
   "metadata": {},
   "source": [
    "# Скачивание тайликов яндекс карт на локальное хранилище"
   ]
  },
  {
   "cell_type": "code",
   "execution_count": null,
   "metadata": {},
   "outputs": [],
   "source": [
    "import pandas as pd\n",
    "import numpy as np\n",
    "from tqdm.notebook import tqdm\n",
    "\n",
    "import sys\n",
    "sys.path.append('../utils')\n",
    "\n",
    "from tile_downloader import download_map_tile"
   ]
  },
  {
   "cell_type": "markdown",
   "metadata": {},
   "source": [
    "**берем z = 17, размер тайлика на широте Египта - примерно 200 x 200 метров**"
   ]
  },
  {
   "cell_type": "code",
   "execution_count": null,
   "metadata": {},
   "outputs": [],
   "source": [
    "zoom = 17"
   ]
  },
  {
   "cell_type": "markdown",
   "metadata": {},
   "source": [
    "## Считываем координаты и скачиваем positive samples"
   ]
  },
  {
   "cell_type": "code",
   "execution_count": null,
   "metadata": {},
   "outputs": [],
   "source": [
    "positives_df = pd.read_csv('../coordinates_data/Eastern_desert_archaeological_structures.csv', delimiter=',')"
   ]
  },
  {
   "cell_type": "code",
   "execution_count": null,
   "metadata": {},
   "outputs": [],
   "source": [
    "errors = []\n",
    "limit = len(positives_df)\n",
    "for i in tqdm(range(limit)):\n",
    "    id_, name, _, lon, lat, _, _, _, _, _, _, _ = positives_df.iloc[i]\n",
    "    try:\n",
    "        img = download_map_tile(lon=lon, lat=lat, z=zoom, pixel_size=256)\n",
    "        img.save(f'../yandexmaps_data/positive_samples/{name}.png')\n",
    "    except Exception as e:\n",
    "        errors.append(name)\n",
    "print(f'{len(errors)=}')"
   ]
  },
  {
   "cell_type": "markdown",
   "metadata": {},
   "source": [
    "## Генерируем координаты и скачиваем negative samples"
   ]
  },
  {
   "cell_type": "code",
   "execution_count": null,
   "metadata": {},
   "outputs": [],
   "source": [
    "lon_coords = np.array(positives_df['x coordinate'])\n",
    "lat_coords = np.array(positives_df['y coordinate'])\n",
    "n = len(lon_coords)"
   ]
  },
  {
   "cell_type": "code",
   "execution_count": null,
   "metadata": {},
   "outputs": [],
   "source": [
    "np.random.seed(42)\n",
    "\n",
    "errors = []\n",
    "generated_coords = []\n",
    "\n",
    "N = 200000\n",
    "for ind in tqdm(range(N)):\n",
    "\n",
    "    weights = np.random.random(size=n)\n",
    "    weights /= np.sum(weights)\n",
    "\n",
    "    lon = np.dot(lon_coords, weights)\n",
    "    lat = np.dot(lat_coords, weights)\n",
    "\n",
    "    generated_coords.append((lon, lat))\n",
    "    \n",
    "    try:\n",
    "        local_file_name = f'../yandexmaps_data/negative_sampels/img{str(ind).zfill(6)}.png'\n",
    "        img = download_map_tile(lon=lon, lat=lat, z=zoom, pixel_size=256)\n",
    "        img.save(local_file_name)\n",
    "\n",
    "    except Exception as e:\n",
    "        print(e)\n",
    "        errors.append((ind, lon, lat))\n",
    "        continue\n",
    "\n",
    "print(f'{len(errors)=}')"
   ]
  },
  {
   "cell_type": "markdown",
   "metadata": {},
   "source": [
    "## Скачиваем координаты negative_samples"
   ]
  },
  {
   "cell_type": "code",
   "execution_count": null,
   "metadata": {},
   "outputs": [],
   "source": [
    "with open('../yandexmaps_data/coords.csv', 'w') as f:\n",
    "    f.write('img_id,lon,lat\\n')\n",
    "    for i, (lon, lat) in enumerate(generated_coords):\n",
    "        f.write(f'{i},{lon},{lat}\\n')"
   ]
  }
 ],
 "metadata": {
  "kernelspec": {
   "display_name": "nlp-course-v1",
   "language": "python",
   "name": "python3"
  },
  "language_info": {
   "codemirror_mode": {
    "name": "ipython",
    "version": 3
   },
   "file_extension": ".py",
   "mimetype": "text/x-python",
   "name": "python",
   "nbconvert_exporter": "python",
   "pygments_lexer": "ipython3",
   "version": "3.12.2"
  }
 },
 "nbformat": 4,
 "nbformat_minor": 2
}
