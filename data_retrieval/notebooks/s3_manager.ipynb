{
 "cells": [
  {
   "cell_type": "markdown",
   "metadata": {},
   "source": [
    "# Выгрузка локальных файлов в хранилище s3\n",
    "\n",
    "Для работы потребуется:\n",
    "* иметь хранилище s3 и секрет для доступа к нему\n",
    "* узнать идентефикатор статического ключа доступа и записать его в глобальную переменную `S3_CREDS['aws_access_key_id']`\n",
    "* узнать значение секрета и записать его в глобальную переменную `S3_CREDS['aws_secret_access_key']`\n",
    "* знать endpoint и название бакета, при необходимости поменять их в коде"
   ]
  },
  {
   "cell_type": "code",
   "execution_count": 1,
   "metadata": {},
   "outputs": [],
   "source": [
    "import boto3\n",
    "import os\n",
    "from tqdm.notebook import tqdm"
   ]
  },
  {
   "cell_type": "code",
   "execution_count": 2,
   "metadata": {},
   "outputs": [],
   "source": [
    "S3_CREDS = {\n",
    "    'aws_access_key_id' : '<your_key_id>',\n",
    "    'aws_secret_access_key' : '<your_secret>'\n",
    "}"
   ]
  },
  {
   "cell_type": "code",
   "execution_count": 3,
   "metadata": {},
   "outputs": [],
   "source": [
    "bucket = 'archdata'\n",
    "\n",
    "client = boto3.client(\n",
    "    service_name='s3',\n",
    "    endpoint_url='https://storage.yandexcloud.net',\n",
    "    **S3_CREDS\n",
    ")"
   ]
  },
  {
   "cell_type": "code",
   "execution_count": 4,
   "metadata": {},
   "outputs": [],
   "source": [
    "def upload_directory(src_directory: str, bucket: str, dst_directory: str) -> None:\n",
    "    for root, dirs, files in os.walk(src_directory):\n",
    "        for i, file in tqdm(enumerate(files), total=200000):\n",
    "            client.upload_file(os.path.join(root, file), bucket, os.path.join(dst_directory, file))"
   ]
  },
  {
   "cell_type": "code",
   "execution_count": 6,
   "metadata": {},
   "outputs": [
    {
     "data": {
      "application/vnd.jupyter.widget-view+json": {
       "model_id": "4489476efca24cc0bd312c30e355b8b3",
       "version_major": 2,
       "version_minor": 0
      },
      "text/plain": [
       "  0%|          | 0/200000 [00:00<?, ?it/s]"
      ]
     },
     "metadata": {},
     "output_type": "display_data"
    }
   ],
   "source": [
    "upload_directory(\n",
    "    '/Users/nadys/python_projects/archaeology-project/data_retrieval/yandexmaps_data/negative_sampels',\n",
    "    bucket, \n",
    "    'yandexmaps_data/negative_samples'\n",
    ")"
   ]
  }
 ],
 "metadata": {
  "kernelspec": {
   "display_name": "base",
   "language": "python",
   "name": "python3"
  },
  "language_info": {
   "codemirror_mode": {
    "name": "ipython",
    "version": 3
   },
   "file_extension": ".py",
   "mimetype": "text/x-python",
   "name": "python",
   "nbconvert_exporter": "python",
   "pygments_lexer": "ipython3",
   "version": "3.8.18"
  }
 },
 "nbformat": 4,
 "nbformat_minor": 2
}
