{
 "cells": [
  {
   "cell_type": "markdown",
   "metadata": {},
   "source": [
    "# Выгрузка данных с локального хранилища на яндекс диск\n",
    "\n",
    "Для работы необходимо:\n",
    "* зарегестрировать приложение на яндекс OAuth (по ссылке [https://oauth.yandex.ru](https://oauth.yandex.ru)) с правами на чтение и запись в яндекс диск через REST API\n",
    "* запомнить `ClientID`\n",
    "* получить OAuth-токен для внешних приложений по ссылке [https://oauth.yandex.ru/authorize?response_type=token&client_id={ClientID}](https://oauth.yandex.ru/authorize?response_type=token&client_id={ClientID})\n",
    "* записать этот токен в глобальную переменную `TOKEN`"
   ]
  },
  {
   "cell_type": "code",
   "execution_count": null,
   "metadata": {},
   "outputs": [],
   "source": [
    "from tqdm.notebook import tqdm\n",
    "from concurrent.futures import ThreadPoolExecutor\n",
    "import yadisk\n",
    "\n",
    "TOKEN = '<your_yadisk_token>'"
   ]
  },
  {
   "cell_type": "code",
   "execution_count": null,
   "metadata": {},
   "outputs": [],
   "source": [
    "client = yadisk.YaDisk(token=TOKEN)\n",
    "\n",
    "with client:\n",
    "    print(client.check_token())"
   ]
  },
  {
   "cell_type": "markdown",
   "metadata": {},
   "source": [
    "#### Cоздание папки"
   ]
  },
  {
   "cell_type": "code",
   "execution_count": null,
   "metadata": {},
   "outputs": [],
   "source": [
    "with client:\n",
    "    client.mkdir('/desert_data/yandexmaps_data/sample_dir')"
   ]
  },
  {
   "cell_type": "markdown",
   "metadata": {},
   "source": [
    "#### Выгрузка файлов из директории: однопоточный вариант"
   ]
  },
  {
   "cell_type": "code",
   "execution_count": null,
   "metadata": {},
   "outputs": [],
   "source": [
    "N = 200000\n",
    "errors = []\n",
    "\n",
    "with client:\n",
    "    for ind in tqdm(range(N)):\n",
    "        try:\n",
    "            local_file_name = f'../yandexmaps_data/negative_sampels/img{str(ind).zfill(6)}.png'\n",
    "            with open(local_file_name, 'rb') as f:\n",
    "                client.upload(f, f'/desert_data/yandexmaps_data/negative_samples_200k/img{str(ind).zfill(6)}.png')ч\n",
    "        except Exception as e:\n",
    "            errors.append(ind)\n",
    "            continue\n",
    "\n",
    "print(f'{len(errors)=}')"
   ]
  },
  {
   "cell_type": "markdown",
   "metadata": {},
   "source": [
    "#### Выгрузка файлов из директории: многопоточный вариант"
   ]
  },
  {
   "cell_type": "code",
   "execution_count": null,
   "metadata": {},
   "outputs": [],
   "source": [
    "N = 200000\n",
    "errors = []\n",
    "\n",
    "def upload_file(client, ind):\n",
    "    try:\n",
    "        local_file_name = f'/Users/nadys/PythonProjects/archaeology-project/data_retrieval/yandexmaps_data/negative_sampels/img{str(ind).zfill(6)}.png'\n",
    "        with open(local_file_name, 'rb') as f:\n",
    "            client.upload(f, f'/desert_data/yandexmaps_data/negative_samples_200k/img{str(ind).zfill(6)}.png')\n",
    "    except Exception as e:\n",
    "        errors.append(ind)\n",
    "\n",
    "with client, ThreadPoolExecutor() as executor:\n",
    "    futures = {executor.submit(upload_file, client, ind) for ind in range(N)}\n",
    "    for i, future in enumerate(futures):\n",
    "        pass\n",
    "\n",
    "print(f'{len(errors)=}')"
   ]
  }
 ],
 "metadata": {
  "language_info": {
   "name": "python"
  }
 },
 "nbformat": 4,
 "nbformat_minor": 2
}
