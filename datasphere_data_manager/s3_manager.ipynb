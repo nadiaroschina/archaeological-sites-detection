{
 "cells": [
  {
   "cell_type": "markdown",
   "metadata": {},
   "source": [
    "# Выгрузка локальных файлов в хранилище s3\n",
    "\n",
    "Для работы потребуется:\n",
    "* иметь хранилище s3 и секрет для доступа к нему\n",
    "* узнать идентефикатор статического ключа доступа и записать его в глобальную переменную `S3_CREDS['aws_access_key_id']`\n",
    "* узнать значение секрета и записать его в глобальную переменную `S3_CREDS['aws_secret_access_key']` либо в переменную окружения `s3_secret`\n",
    "* знать endpoint и название бакета, при необходимости поменять их в коде"
   ]
  },
  {
   "cell_type": "code",
   "execution_count": 1,
   "metadata": {
    "execution": {
     "iopub.execute_input": "2024-05-16T09:00:43.825794Z",
     "iopub.status.busy": "2024-05-16T09:00:43.824878Z",
     "iopub.status.idle": "2024-05-16T09:00:44.292554Z",
     "shell.execute_reply": "2024-05-16T09:00:44.291750Z",
     "shell.execute_reply.started": "2024-05-16T09:00:43.825743Z"
    },
    "tags": []
   },
   "outputs": [],
   "source": [
    "import boto3\n",
    "import os\n",
    "from tqdm.notebook import tqdm"
   ]
  },
  {
   "cell_type": "code",
   "execution_count": 3,
   "metadata": {},
   "outputs": [],
   "source": [
    "# os.environ['s3_secret']"
   ]
  },
  {
   "cell_type": "code",
   "execution_count": null,
   "metadata": {
    "execution": {
     "iopub.execute_input": "2024-05-16T09:00:44.334079Z",
     "iopub.status.busy": "2024-05-16T09:00:44.332702Z",
     "iopub.status.idle": "2024-05-16T09:00:44.353167Z",
     "shell.execute_reply": "2024-05-16T09:00:44.351861Z",
     "shell.execute_reply.started": "2024-05-16T09:00:44.334027Z"
    },
    "tags": []
   },
   "outputs": [],
   "source": [
    "S3_CREDS = {\n",
    "    'aws_access_key_id' : '<>',\n",
    "    'aws_secret_access_key' : os.environ['s3_secret']\n",
    "}"
   ]
  },
  {
   "cell_type": "code",
   "execution_count": 5,
   "metadata": {
    "execution": {
     "iopub.execute_input": "2024-05-16T09:00:44.725447Z",
     "iopub.status.busy": "2024-05-16T09:00:44.724687Z",
     "iopub.status.idle": "2024-05-16T09:00:45.807077Z",
     "shell.execute_reply": "2024-05-16T09:00:45.806166Z",
     "shell.execute_reply.started": "2024-05-16T09:00:44.725401Z"
    },
    "tags": []
   },
   "outputs": [],
   "source": [
    "bucket = 'archdata'\n",
    "\n",
    "client = boto3.client(\n",
    "    service_name='s3',\n",
    "    endpoint_url='https://storage.yandexcloud.net',\n",
    "    **S3_CREDS\n",
    ")"
   ]
  },
  {
   "cell_type": "code",
   "execution_count": 5,
   "metadata": {
    "execution": {
     "iopub.execute_input": "2024-05-13T21:23:50.348865Z",
     "iopub.status.busy": "2024-05-13T21:23:50.347893Z",
     "iopub.status.idle": "2024-05-13T21:23:50.359704Z",
     "shell.execute_reply": "2024-05-13T21:23:50.359001Z",
     "shell.execute_reply.started": "2024-05-13T21:23:50.348818Z"
    },
    "tags": []
   },
   "outputs": [],
   "source": [
    "def upload_directory(src_directory: str, bucket: str, dst_directory: str, total=200000) -> None:\n",
    "    for root, dirs, files in os.walk(src_directory):\n",
    "        for i, file in tqdm(enumerate(files), total=total):\n",
    "            client.upload_file(os.path.join(root, file), bucket, os.path.join(dst_directory, file))"
   ]
  },
  {
   "cell_type": "markdown",
   "metadata": {},
   "source": [
    "### Выгружаем данные "
   ]
  },
  {
   "cell_type": "code",
   "execution_count": null,
   "metadata": {
    "execution": {
     "iopub.execute_input": "2024-05-16T09:01:07.244612Z",
     "iopub.status.busy": "2024-05-16T09:01:07.243638Z",
     "iopub.status.idle": "2024-05-16T09:01:07.427991Z",
     "shell.execute_reply": "2024-05-16T09:01:07.427051Z",
     "shell.execute_reply.started": "2024-05-16T09:01:07.244565Z"
    },
    "tags": []
   },
   "outputs": [],
   "source": [
    "# один файл (пример)\n",
    "\n",
    "src_file = f'/home/jupyter/datasphere/project/negative_coords_v3.csv'\n",
    "dst_file = f'googlemaps_data/negative_v3/negative_coords_v3.csv'\n",
    "\n",
    "client.upload_file(src_file, bucket, dst_file)"
   ]
  },
  {
   "cell_type": "code",
   "execution_count": null,
   "metadata": {},
   "outputs": [],
   "source": [
    "# директория (пример)\n",
    "\n",
    "src = f'/Users/nadys/python_projects/arch/generated_midjourney_256pix'\n",
    "dst = f'midjourney_generated_positives'\n",
    "\n",
    "upload_directory(src, bucket, dst, total=len(os.listdir(src)))"
   ]
  },
  {
   "cell_type": "code",
   "execution_count": null,
   "metadata": {},
   "outputs": [],
   "source": [
    "# получить список объектов в бакете\n",
    "\n",
    "for key in client.list_objects(Bucket=bucket)['Contents']:\n",
    "    print(key['Key'])"
   ]
  },
  {
   "cell_type": "code",
   "execution_count": null,
   "metadata": {},
   "outputs": [],
   "source": []
  }
 ],
 "metadata": {
  "kernelspec": {
   "display_name": "base",
   "language": "python",
   "name": "python3"
  },
  "language_info": {
   "codemirror_mode": {
    "name": "ipython",
    "version": 3
   },
   "file_extension": ".py",
   "mimetype": "text/x-python",
   "name": "python",
   "nbconvert_exporter": "python",
   "pygments_lexer": "ipython3",
   "version": "3.8.18"
  }
 },
 "nbformat": 4,
 "nbformat_minor": 4
}
