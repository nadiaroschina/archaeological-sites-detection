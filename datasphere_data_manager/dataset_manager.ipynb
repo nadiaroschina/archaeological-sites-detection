{
 "cells": [
  {
   "cell_type": "markdown",
   "metadata": {},
   "source": [
    "# Создание датасета (yandex-dataset) из папки в хранилище s3\n",
    "\n",
    "Для работы потребуется:\n",
    "* иметь хранилище s3 и секрет для доступа к нему\n",
    "* узнать идентефикатор статического ключа доступа и записать его в глобальную переменную `S3_CREDS['aws_access_key_id']`\n",
    "* узнать значение секрета и записать его в глобальную переменную `S3_CREDS['aws_secret_access_key']` либо в переменную окружения `s3_secret`\n",
    "* знать endpoint и название бакета, при необходимости поменять их в коде"
   ]
  },
  {
   "cell_type": "code",
   "execution_count": 1,
   "metadata": {
    "cellId": "06zwgmtx0ei85pspit633zb",
    "execution": {
     "iopub.execute_input": "2024-09-03T20:19:19.882775Z",
     "iopub.status.busy": "2024-09-03T20:19:19.881305Z",
     "iopub.status.idle": "2024-09-03T20:19:20.239962Z",
     "shell.execute_reply": "2024-09-03T20:19:20.239066Z",
     "shell.execute_reply.started": "2024-09-03T20:19:19.882721Z"
    },
    "tags": []
   },
   "outputs": [],
   "source": [
    "import boto3\n",
    "import os"
   ]
  },
  {
   "cell_type": "code",
   "execution_count": 5,
   "metadata": {
    "execution": {
     "iopub.execute_input": "2024-05-19T14:36:53.116262Z",
     "iopub.status.busy": "2024-05-19T14:36:53.115339Z",
     "iopub.status.idle": "2024-05-19T14:36:53.136747Z",
     "shell.execute_reply": "2024-05-19T14:36:53.136040Z",
     "shell.execute_reply.started": "2024-05-19T14:36:53.116225Z"
    },
    "tags": []
   },
   "outputs": [],
   "source": [
    "# os.environ['s3_secret']"
   ]
  },
  {
   "cell_type": "code",
   "execution_count": null,
   "metadata": {
    "execution": {
     "iopub.execute_input": "2024-09-03T20:19:20.242684Z",
     "iopub.status.busy": "2024-09-03T20:19:20.241441Z",
     "iopub.status.idle": "2024-09-03T20:19:20.263458Z",
     "shell.execute_reply": "2024-09-03T20:19:20.262634Z",
     "shell.execute_reply.started": "2024-09-03T20:19:20.242645Z"
    },
    "tags": []
   },
   "outputs": [],
   "source": [
    "S3_CREDS = {\n",
    "    'aws_access_key_id' : '<>',\n",
    "    'aws_secret_access_key' : os.environ['s3_secret']\n",
    "}\n",
    "\n",
    "bucket_name = 'archdata' "
   ]
  },
  {
   "cell_type": "code",
   "execution_count": null,
   "metadata": {
    "execution": {
     "iopub.execute_input": "2024-09-03T20:20:27.133790Z",
     "iopub.status.busy": "2024-09-03T20:20:27.132385Z"
    },
    "tags": []
   },
   "outputs": [],
   "source": [
    "#pragma dataset init sasgis-dataset-100k --size 40Gb\n",
    "\n",
    "source_path = 'google_satellite_data'\n",
    "target_path = '/home/jupyter/mnt/datasets/sasgis-dataset-100k'\n",
    "\n",
    "s3r = boto3.resource(service_name='s3', endpoint_url='https://storage.yandexcloud.net', **S3_CREDS)\n",
    "bucket = s3r.Bucket(bucket_name)\n",
    "\n",
    "for obj in bucket.objects.filter(Prefix=source_path):\n",
    "    if not os.path.relpath(obj.key, source_path).startswith('../'):\n",
    "        os.makedirs(os.path.join(target_path, os.path.dirname(obj.key)), exist_ok=True)\n",
    "        if obj.key[-1] != '/':\n",
    "            bucket.download_file(obj.key, os.path.join(target_path, obj.key))"
   ]
  },
  {
   "cell_type": "code",
   "execution_count": null,
   "metadata": {},
   "outputs": [],
   "source": []
  }
 ],
 "metadata": {
  "kernelspec": {
   "display_name": "DataSphere Kernel",
   "language": "python",
   "name": "python3"
  },
  "language_info": {
   "codemirror_mode": {
    "name": "ipython",
    "version": 3
   },
   "file_extension": ".py",
   "mimetype": "text/x-python",
   "name": "python",
   "nbconvert_exporter": "python",
   "pygments_lexer": "ipython3",
   "version": "3.10.12"
  },
  "notebookId": "3a8466ea-bc19-41d8-b4f8-90ca447c1311",
  "notebookPath": "dataflow_ru.ipynb",
  "ydsNotebookPath": "dataflow_ru.ipynb"
 },
 "nbformat": 4,
 "nbformat_minor": 4
}
