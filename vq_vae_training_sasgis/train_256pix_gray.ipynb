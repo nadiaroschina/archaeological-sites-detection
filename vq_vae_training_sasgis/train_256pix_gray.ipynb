{
 "cells": [
  {
   "cell_type": "code",
   "execution_count": null,
   "id": "68749399-e209-4031-ba98-11be37c6fd10",
   "metadata": {
    "tags": []
   },
   "outputs": [],
   "source": [
    "import os\n",
    "import sys\n",
    "\n",
    "import pandas as pd\n",
    "import numpy as np\n",
    "\n",
    "from PIL import Image\n",
    "\n",
    "import torch\n",
    "import torch.nn as nn\n",
    "import torch.nn.functional as F\n",
    "\n",
    "from torchvision import transforms, utils\n",
    "from torchvision.utils import save_image, make_grid\n",
    "from torch.utils.data import Dataset, DataLoader\n",
    "\n",
    "import matplotlib.pyplot as plt\n",
    "from tqdm.auto import tqdm"
   ]
  },
  {
   "cell_type": "markdown",
   "id": "ee5ba785-db0d-439e-bc30-1031895124fe",
   "metadata": {},
   "source": [
    "## Данные и модель"
   ]
  },
  {
   "cell_type": "code",
   "execution_count": null,
   "id": "1e0690f7-29e6-497f-8324-32adca9c037a",
   "metadata": {
    "tags": []
   },
   "outputs": [],
   "source": [
    "from dataset import ArchDataset, GS_NEGATIVE_PATHS, GS_POSITIVE_PATHS, GS_NEGATIVE_COORDS, GS_POSITIVE_COORDS"
   ]
  },
  {
   "cell_type": "code",
   "execution_count": null,
   "id": "498ff7b3-30d1-4716-ad07-8262ded43499",
   "metadata": {
    "tags": []
   },
   "outputs": [],
   "source": [
    "from model import VQVAE"
   ]
  },
  {
   "cell_type": "markdown",
   "id": "6f3620dc-4384-4b46-b332-38d76167b606",
   "metadata": {
    "tags": []
   },
   "source": [
    "# Параметры модели и обучения"
   ]
  },
  {
   "cell_type": "code",
   "execution_count": null,
   "id": "239f990b-885e-43e8-812b-fd724d037f25",
   "metadata": {
    "tags": []
   },
   "outputs": [],
   "source": [
    "EMBED_DIM = 64\n",
    "NUM_EMBEDS = 4"
   ]
  },
  {
   "cell_type": "code",
   "execution_count": null,
   "id": "060f4d68-bdca-4181-aa62-fe29b4685e13",
   "metadata": {
    "tags": []
   },
   "outputs": [],
   "source": [
    "device = torch.device('cuda:0' if torch.cuda.is_available() else 'cpu')\n",
    "device"
   ]
  },
  {
   "cell_type": "code",
   "execution_count": null,
   "id": "81f8814b-e41d-42f8-a335-3641e44911fe",
   "metadata": {
    "tags": []
   },
   "outputs": [],
   "source": [
    "results_dir = f'../vq_vae_training_sasgis_results/v2_256pix_gray_{str(EMBED_DIM).zfill(2)}embdim_{str(NUM_EMBEDS).zfill(2)}embeds'"
   ]
  },
  {
   "cell_type": "code",
   "execution_count": null,
   "id": "bfd2500e-672c-4bff-a00c-5192f70faea2",
   "metadata": {},
   "outputs": [],
   "source": [
    "os.mkdir(results_dir)"
   ]
  },
  {
   "cell_type": "code",
   "execution_count": null,
   "id": "e80f15cc-4f1b-4e34-acce-3c9f9e317d4e",
   "metadata": {
    "tags": []
   },
   "outputs": [],
   "source": [
    "params = {\n",
    "    'batch_size': 32,\n",
    "    'img_size': 256,\n",
    "    'channels': 1,\n",
    "    'embedding_dim': EMBED_DIM,\n",
    "    'num_embeddings': NUM_EMBEDS,\n",
    "    'beta': 0.25,\n",
    "    'n_epochs': 10,\n",
    "}"
   ]
  },
  {
   "cell_type": "markdown",
   "id": "cfc5d08b-e6be-4201-93a5-3b7480b2e82b",
   "metadata": {},
   "source": [
    "# Датасет"
   ]
  },
  {
   "cell_type": "code",
   "execution_count": null,
   "id": "c6fdc949-0d1e-4b73-a40b-8de1941eacd1",
   "metadata": {
    "tags": []
   },
   "outputs": [],
   "source": [
    "transform_nocrop_256_grayscale = transforms.Compose([\n",
    "    # transforms.CenterCrop((256, 256)),\n",
    "    transforms.Grayscale(),\n",
    "    transforms.ToTensor(),\n",
    "    transforms.Normalize([0.5], [0.5])\n",
    "])"
   ]
  },
  {
   "cell_type": "code",
   "execution_count": null,
   "id": "1b5655e9-0e1b-4d18-a693-a80c1af1c1ff",
   "metadata": {
    "tags": []
   },
   "outputs": [],
   "source": [
    "torch.random.manual_seed(42);"
   ]
  },
  {
   "cell_type": "code",
   "execution_count": null,
   "id": "97664d61-df89-41b6-b398-961a23072187",
   "metadata": {
    "tags": []
   },
   "outputs": [],
   "source": [
    "train_dataset = ArchDataset(\n",
    "    img_paths=GS_NEGATIVE_PATHS, \n",
    "    coords=GS_NEGATIVE_COORDS, \n",
    "    anomalies=False, \n",
    "    transform=transform_nocrop_256_grayscale\n",
    ")\n",
    "train_loader = DataLoader(train_dataset, batch_size=params['batch_size'], shuffle=True)\n",
    "\n",
    "anomalies_dataset = ArchDataset(\n",
    "    img_paths=GS_POSITIVE_PATHS, \n",
    "    coords=GS_POSITIVE_COORDS, \n",
    "    anomalies=True, \n",
    "    transform=transform_nocrop_256_grayscale\n",
    ")\n",
    "anomalies_loader = DataLoader(anomalies_dataset, batch_size=params['batch_size'], shuffle=False)"
   ]
  },
  {
   "cell_type": "code",
   "execution_count": null,
   "id": "fc5e7a86-873c-4aea-996b-85bb719bc4a8",
   "metadata": {
    "tags": []
   },
   "outputs": [],
   "source": [
    "print(f'train: {len(train_dataset)} images, {len(train_loader)} batches')\n",
    "print(f'anomalies: {len(anomalies_dataset)} images, {len(anomalies_loader)} batches')"
   ]
  },
  {
   "cell_type": "code",
   "execution_count": null,
   "id": "1e1ba0c1-d3c2-4ee0-997a-d82fe566d539",
   "metadata": {
    "tags": []
   },
   "outputs": [],
   "source": [
    "ncols = 6\n",
    "\n",
    "fig, axs = plt.subplots(nrows=2, ncols=ncols, figsize=(16, 8))\n",
    "for i in range(ncols):\n",
    "    axs[0, i].axis('off')\n",
    "    axs[1, i].axis('off')\n",
    "    axs[0, i].imshow(anomalies_dataset[i][0].permute(1, 2, 0), cmap='gray')\n",
    "    axs[1, i].imshow(train_dataset[i][0].permute(1, 2, 0), cmap='gray')\n",
    "fig.tight_layout()\n",
    "fig.show()"
   ]
  },
  {
   "cell_type": "markdown",
   "id": "00eccc95-d2e4-48d3-8042-8f71938a48c9",
   "metadata": {
    "tags": []
   },
   "source": [
    "# Создание модели"
   ]
  },
  {
   "cell_type": "code",
   "execution_count": null,
   "id": "c9315cea-ebc2-4e8f-bd9d-49f7f5276c8f",
   "metadata": {
    "tags": []
   },
   "outputs": [],
   "source": [
    "model = VQVAE(\n",
    "    in_channels=params['channels'],\n",
    "    img_size=params['img_size'],\n",
    "    \n",
    "    embedding_dim=params['embedding_dim'],\n",
    "    num_embeddings=params['num_embeddings'],\n",
    "    beta=params['beta']\n",
    ")"
   ]
  },
  {
   "cell_type": "code",
   "execution_count": null,
   "id": "1c27565f-caa6-4137-90b3-7b7f75fadf51",
   "metadata": {
    "tags": []
   },
   "outputs": [],
   "source": [
    "# model"
   ]
  },
  {
   "cell_type": "code",
   "execution_count": null,
   "id": "a3e57c1b-a281-4e3e-96af-7bf1b8e7e444",
   "metadata": {
    "tags": []
   },
   "outputs": [],
   "source": [
    "total_params = sum(param.numel() for param in model.parameters())\n",
    "total_params"
   ]
  },
  {
   "cell_type": "markdown",
   "id": "5a7abb19-d029-4f2b-a63f-f3273af11bb4",
   "metadata": {},
   "source": [
    "# Цикл обучения"
   ]
  },
  {
   "cell_type": "code",
   "execution_count": null,
   "id": "cfdba46e-e3bc-4368-ab6e-e151fffd7f2c",
   "metadata": {
    "tags": []
   },
   "outputs": [],
   "source": [
    "def train_vqvae(pbar, model, dataloader, optimizer, scheduler, n_epochs, device, logged_indices):\n",
    "    \n",
    "    model = model.to(device)\n",
    "    model.train()\n",
    "\n",
    "    for epoch in range(n_epochs):\n",
    "        \n",
    "        running_loss = 0.0\n",
    "        current_lr = optimizer.param_groups[0]['lr']\n",
    "        \n",
    "        for batch_idx, (data, data_dataset_indices, _, _) in enumerate(dataloader):\n",
    "\n",
    "            data = data.to(device)\n",
    "            optimizer.zero_grad()\n",
    "            outputs = model(data)\n",
    "            reconstructions, original_input, vq_loss = outputs\n",
    "            \n",
    "            loss_dict = model.loss_function(reconstructions, original_input, vq_loss)\n",
    "            total_loss = loss_dict['loss']\n",
    "            total_loss.backward()\n",
    "            optimizer.step()\n",
    "            running_loss += total_loss.item()\n",
    "            curr_loss = running_loss / (1 + batch_idx)\n",
    "            \n",
    "            pbar.set_description(\n",
    "                f'Epoch [{epoch + 1}/{n_epochs}] Batch [{batch_idx + 1}/{len(dataloader)}] Loss [{curr_loss:.4f}] [LR {current_lr:.6f}]'\n",
    "            )\n",
    "            pbar.update(1)\n",
    "            \n",
    "            if batch_idx % 1000 == 0: \n",
    "                \n",
    "                logged_indices[(epoch, batch_idx)] = data_dataset_indices[: 8].detach().cpu().numpy()\n",
    "                \n",
    "                with torch.no_grad():\n",
    "                    log_imgs = torch.cat([original_input[: 8], reconstructions[: 8]])\n",
    "                    utils.save_image(\n",
    "                        log_imgs.cpu().data,\n",
    "                        f'{results_dir}/sample_{str(epoch).zfill(2)}_{str(batch_idx).zfill(4)}.png',\n",
    "                        normalize=True,\n",
    "                        nrow=8\n",
    "                    )\n",
    "\n",
    "        avg_loss = running_loss / len(dataloader)\n",
    "        scheduler.step(avg_loss)\n",
    "                \n",
    "        torch.save(model.state_dict(), f'{results_dir}/checkpoint_{epoch}.pth')\n",
    "        # torch.save(optimizer.state_dict(), f'{results_dir}/optimizer_{epoch}.opt')\n"
   ]
  },
  {
   "cell_type": "code",
   "execution_count": null,
   "id": "059f30ec-eb14-41f4-b4c4-bff3d842d054",
   "metadata": {
    "tags": []
   },
   "outputs": [],
   "source": [
    "optimizer = torch.optim.Adam(model.parameters(), lr=1e-4)\n",
    "scheduler = torch.optim.lr_scheduler.ReduceLROnPlateau(optimizer, mode='min', factor=0.5, patience=2, min_lr=1e-6)"
   ]
  },
  {
   "cell_type": "code",
   "execution_count": null,
   "id": "558fa9d0-8983-4656-8119-f086fd7454d7",
   "metadata": {
    "tags": []
   },
   "outputs": [],
   "source": [
    "logged_indices = {}\n",
    "\n",
    "with tqdm(\n",
    "    total=params['n_epochs'] * len(train_loader), \n",
    "    desc=f'[Epoch ?] [Batch ?] [Loss ?] [LR ?]',\n",
    "    leave=False\n",
    ") as pbar:\n",
    "    train_vqvae(pbar, model, train_loader, optimizer, scheduler, params['n_epochs'], device, logged_indices)"
   ]
  },
  {
   "cell_type": "code",
   "execution_count": null,
   "id": "af7f1aed-4d17-446d-a3ae-656d908a26d3",
   "metadata": {
    "tags": []
   },
   "outputs": [],
   "source": [
    "for (epoch, batch_idx), indices in logged_indices.items():\n",
    "    print(f'epoch {epoch} batch {batch_idx}: indices {indices}')"
   ]
  },
  {
   "cell_type": "code",
   "execution_count": null,
   "id": "b6834fc0-80af-48e2-8407-bb0d3ae8c8ca",
   "metadata": {
    "tags": []
   },
   "outputs": [],
   "source": [
    "idx = 84195\n",
    "train_dataset[idx]"
   ]
  },
  {
   "cell_type": "code",
   "execution_count": null,
   "id": "1031063d-2fc1-49f4-8545-2b9a7213a198",
   "metadata": {
    "tags": []
   },
   "outputs": [],
   "source": [
    "plt.imshow(train_dataset[idx][0][0], cmap='gray');"
   ]
  },
  {
   "cell_type": "code",
   "execution_count": null,
   "id": "1d661c1e-1231-4b64-a9d2-c3341b13d161",
   "metadata": {},
   "outputs": [],
   "source": []
  },
  {
   "cell_type": "code",
   "execution_count": null,
   "id": "6dcf02c6-2a81-43ea-a765-28526ec2787d",
   "metadata": {
    "tags": []
   },
   "outputs": [],
   "source": [
    "import glob, shutil"
   ]
  },
  {
   "cell_type": "code",
   "execution_count": null,
   "id": "10e1e1c9-606a-4cf4-98f4-6349c0c80a56",
   "metadata": {
    "tags": []
   },
   "outputs": [],
   "source": [
    "shutil.copytree('v2_256pix_gray_64embdim_04embeds', '../vq_vae_training_sasgis_results/v2_256pix_gray_64embdim_04embeds')"
   ]
  },
  {
   "cell_type": "code",
   "execution_count": null,
   "id": "9c154164-5431-46ed-aa67-9f3b96d5355d",
   "metadata": {},
   "outputs": [],
   "source": []
  }
 ],
 "metadata": {
  "kernelspec": {
   "display_name": "DataSphere Kernel",
   "language": "python",
   "name": "python3"
  },
  "language_info": {
   "codemirror_mode": {
    "name": "ipython",
    "version": 3
   },
   "file_extension": ".py",
   "mimetype": "text/x-python",
   "name": "python",
   "nbconvert_exporter": "python",
   "pygments_lexer": "ipython3",
   "version": "3.10.12"
  }
 },
 "nbformat": 4,
 "nbformat_minor": 5
}
