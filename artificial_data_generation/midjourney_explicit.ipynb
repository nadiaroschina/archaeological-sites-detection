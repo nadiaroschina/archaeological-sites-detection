{
 "cells": [
  {
   "cell_type": "markdown",
   "metadata": {},
   "source": [
    "## Работа с Midjourney v6 \n",
    "\n",
    "и другими моделями с помощью TT API\n",
    "\n",
    "документация: https://ttapi.io/docs"
   ]
  },
  {
   "cell_type": "code",
   "execution_count": null,
   "metadata": {},
   "outputs": [],
   "source": [
    "import os\n",
    "import requests\n",
    "\n",
    "from io import BytesIO\n",
    "from PIL import Image\n",
    "\n",
    "import time\n",
    "\n",
    "from tqdm.notebook import tqdm"
   ]
  },
  {
   "cell_type": "markdown",
   "metadata": {},
   "source": [
    "register here https://ttapi.io\n",
    "\n",
    "get your api key here https://ttapi.io/center"
   ]
  },
  {
   "cell_type": "code",
   "execution_count": null,
   "metadata": {},
   "outputs": [],
   "source": [
    "TT_API_KEY = ..."
   ]
  },
  {
   "cell_type": "markdown",
   "metadata": {},
   "source": [
    "### sending generation requests"
   ]
  },
  {
   "cell_type": "code",
   "execution_count": null,
   "metadata": {},
   "outputs": [],
   "source": [
    "endpoint_imagine = 'https://api.ttapi.io/midjourney/v1/imagine'\n",
    "headers = {'TT-API-KEY': TT_API_KEY}"
   ]
  },
  {
   "cell_type": "code",
   "execution_count": null,
   "metadata": {},
   "outputs": [],
   "source": [
    "PROMPT = '''satellite image of a desert with an unexcavated archeological site\n",
    "view directly from above, as if taken from a plane\n",
    "the image should cover approximately 80m * 80m\n",
    "--ar 1:1 --v 6.1'''"
   ]
  },
  {
   "cell_type": "code",
   "execution_count": null,
   "metadata": {},
   "outputs": [],
   "source": [
    "data_imagine = {\n",
    "    'prompt': PROMPT,\n",
    "    'model': 'relax',\n",
    "    'hookUrl': '',\n",
    "    'timeout': 300\n",
    "}"
   ]
  },
  {
   "cell_type": "code",
   "execution_count": null,
   "metadata": {},
   "outputs": [],
   "source": [
    "job_ids = {}"
   ]
  },
  {
   "cell_type": "code",
   "execution_count": null,
   "metadata": {},
   "outputs": [],
   "source": [
    "total_n_requests = 400\n",
    "for query_idx_start in tqdm(range(1, total_n_requests, 10)):\n",
    "    for query_idx in range(query_idx_start, query_idx_start + 10):\n",
    "        response_imagine = requests.post(endpoint_imagine, headers=headers, json=data_imagine)\n",
    "        assert response_imagine.status_code == 200, response_imagine.json()\n",
    "        job_id = response_imagine.json()['data']['jobId']\n",
    "        job_ids[query_idx] = job_id\n",
    "    time.sleep(60 * 12)"
   ]
  },
  {
   "cell_type": "code",
   "execution_count": null,
   "metadata": {},
   "outputs": [],
   "source": [
    "with open('job_ids_final.txt', 'w') as f:\n",
    "    for (query_idx, job_id) in job_ids.items():\n",
    "        f.write(f'{query_idx}\\t{job_id}\\n')"
   ]
  },
  {
   "cell_type": "markdown",
   "metadata": {},
   "source": [
    "### fetching generation results"
   ]
  },
  {
   "cell_type": "markdown",
   "metadata": {},
   "source": [
    "on midjourney dashboard https://ttapi.io/center/jobs \n",
    "\n",
    "wait for status = success for all images"
   ]
  },
  {
   "cell_type": "code",
   "execution_count": null,
   "metadata": {},
   "outputs": [],
   "source": [
    "endpoint_fetch = 'https://api.ttapi.io/midjourney/v1/fetch'\n",
    "headers = {'TT-API-KEY': TT_API_KEY}"
   ]
  },
  {
   "cell_type": "code",
   "execution_count": null,
   "metadata": {},
   "outputs": [],
   "source": [
    "job_ids = {}\n",
    "\n",
    "with open('job_ids_final.txt', 'r') as f:\n",
    "    for line in f.readlines():\n",
    "        query_idx, job_id = line.split()\n",
    "        job_ids[int(query_idx)] = job_id.strip()"
   ]
  },
  {
   "cell_type": "code",
   "execution_count": null,
   "metadata": {},
   "outputs": [],
   "source": [
    "for query_idx in tqdm(range(1, 401)):\n",
    "\n",
    "    data_fetch = {'jobId': job_ids[query_idx]}\n",
    "    response_fetch = requests.post(endpoint_fetch, headers=headers, json=data_fetch)\n",
    "    assert response_fetch.status_code == 200, response_fetch.json()\n",
    "\n",
    "    img_url = response_fetch.json()['data']['cdnImage']\n",
    "    img = Image.open(BytesIO(requests.get(img_url).content))\n",
    "\n",
    "    img1 = img.crop((0, 0, 1024, 1024))\n",
    "    img2 = img.crop((0, 1024, 1024, 2048))\n",
    "    img3 = img.crop((1024, 0, 2048, 1024))\n",
    "    img4 = img.crop((1024, 1024, 2048, 2048))\n",
    "\n",
    "    img1.save(f'generated_midjourney/img{query_idx}_{1}.jpg')\n",
    "    img2.save(f'generated_midjourney/img{query_idx}_{2}.jpg')\n",
    "    img3.save(f'generated_midjourney/img{query_idx}_{3}.jpg')\n",
    "    img4.save(f'generated_midjourney/img{query_idx}_{4}.jpg')"
   ]
  },
  {
   "cell_type": "code",
   "execution_count": null,
   "metadata": {},
   "outputs": [],
   "source": [
    "len(os.listdir('generated_midjourney'))"
   ]
  },
  {
   "cell_type": "code",
   "execution_count": null,
   "metadata": {},
   "outputs": [],
   "source": []
  }
 ],
 "metadata": {
  "kernelspec": {
   "display_name": "base",
   "language": "python",
   "name": "python3"
  },
  "language_info": {
   "codemirror_mode": {
    "name": "ipython",
    "version": 3
   },
   "file_extension": ".py",
   "mimetype": "text/x-python",
   "name": "python",
   "nbconvert_exporter": "python",
   "pygments_lexer": "ipython3",
   "version": "3.8.18"
  }
 },
 "nbformat": 4,
 "nbformat_minor": 2
}
